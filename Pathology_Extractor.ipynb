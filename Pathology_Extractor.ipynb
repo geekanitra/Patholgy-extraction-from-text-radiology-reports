{
  "nbformat": 4,
  "nbformat_minor": 0,
  "metadata": {
    "colab": {
      "provenance": []
    },
    "kernelspec": {
      "name": "python3",
      "display_name": "Python 3"
    },
    "language_info": {
      "name": "python"
    },
    "accelerator": "GPU",
    "gpuClass": "standard"
  },
  "cells": [
    {
      "cell_type": "code",
      "execution_count": null,
      "metadata": {
        "colab": {
          "base_uri": "https://localhost:8080/"
        },
        "id": "glpKjwSUDHLH",
        "outputId": "514e249f-77c8-4328-f5bc-bbbb3c181f89"
      },
      "outputs": [
        {
          "output_type": "stream",
          "name": "stdout",
          "text": [
            "Mounted at /content/gdrive/\n"
          ]
        }
      ],
      "source": [
        "from google.colab import drive\n",
        "\n",
        "drive.mount('/content/gdrive/', force_remount=True)"
      ]
    },
    {
      "cell_type": "markdown",
      "source": [
        "### Importing the necessary libraries."
      ],
      "metadata": {
        "id": "A__Gu3EqmNUi"
      }
    },
    {
      "cell_type": "code",
      "source": [
        "import pandas as pd\n",
        "import numpy as np\n",
        "import re\n",
        "import nltk\n",
        "import spacy\n",
        "import string\n",
        "from nltk.corpus import stopwords\n",
        "nltk.download('stopwords')\n",
        "import tensorflow as tf\n",
        "import re\n",
        "from nltk.stem.snowball import SnowballStemmer\n",
        "from sklearn.model_selection import train_test_split\n",
        "from sklearn.metrics import classification_report"
      ],
      "metadata": {
        "id": "33qXr1HmDKZC",
        "colab": {
          "base_uri": "https://localhost:8080/"
        },
        "outputId": "8b695939-6977-4979-892a-3b5fa6df7c5e"
      },
      "execution_count": null,
      "outputs": [
        {
          "output_type": "stream",
          "name": "stderr",
          "text": [
            "[nltk_data] Downloading package stopwords to /root/nltk_data...\n",
            "[nltk_data]   Unzipping corpora/stopwords.zip.\n"
          ]
        }
      ]
    },
    {
      "cell_type": "code",
      "source": [
        "df = pd.read_csv('/content/gdrive/MyDrive/merged_report.csv')"
      ],
      "metadata": {
        "id": "j4fFCv9PDv7k"
      },
      "execution_count": null,
      "outputs": []
    },
    {
      "cell_type": "code",
      "source": [
        "df"
      ],
      "metadata": {
        "colab": {
          "base_uri": "https://localhost:8080/",
          "height": 659
        },
        "id": "iixxveQwEm2E",
        "outputId": "0f2c74f1-4276-4072-dba6-3e57c873256c"
      },
      "execution_count": null,
      "outputs": [
        {
          "output_type": "execute_result",
          "data": {
            "text/plain": [
              "                                                  Reports  No Finding  \\\n",
              "0       \"Nasogastric tube ends in the upper stomach bu...         1.0   \n",
              "1       \"Cardiomediastinal silhouette is borderline en...         NaN   \n",
              "2       \"Compared to chest radiographs ___ through ___...         NaN   \n",
              "3       \"AP chest compared to ___:  Nasogastric tube e...         NaN   \n",
              "4       \"PA and lateral views of the chest provided.  ...         NaN   \n",
              "...                                                   ...         ...   \n",
              "227819  \"ET tube in standard placement.  Left jugular ...         NaN   \n",
              "227820  \"Postoperative widening the cardiac silhouette...         NaN   \n",
              "227821  \"Pulmonary and mediastinal vascular congestion...         NaN   \n",
              "227822  \"In comparison to the chest radiograph obtaine...         NaN   \n",
              "227823  \"As compared to the previous radiograph, the p...         NaN   \n",
              "\n",
              "        Enlarged Cardiomediastinum  Cardiomegaly  Lung Lesion  Lung Opacity  \\\n",
              "0                              NaN           0.0          NaN           NaN   \n",
              "1                              1.0           NaN          NaN           NaN   \n",
              "2                              NaN           0.0          NaN           NaN   \n",
              "3                              NaN           NaN          NaN           NaN   \n",
              "4                              1.0           NaN          NaN           1.0   \n",
              "...                            ...           ...          ...           ...   \n",
              "227819                         NaN           NaN          NaN           NaN   \n",
              "227820                         NaN           NaN          NaN           NaN   \n",
              "227821                         NaN           NaN          NaN           NaN   \n",
              "227822                         NaN           NaN          NaN           NaN   \n",
              "227823                         NaN           NaN          NaN           NaN   \n",
              "\n",
              "        Edema  Consolidation  Pneumonia  Atelectasis  Pneumothorax  \\\n",
              "0         NaN            NaN        NaN          NaN           NaN   \n",
              "1         NaN            NaN        NaN          1.0           NaN   \n",
              "2         1.0            1.0       -1.0         -1.0           NaN   \n",
              "3         NaN            NaN        NaN          1.0           0.0   \n",
              "4         NaN            NaN        NaN          NaN           NaN   \n",
              "...       ...            ...        ...          ...           ...   \n",
              "227819    NaN            NaN        NaN          NaN           NaN   \n",
              "227820    NaN            NaN        NaN          NaN           NaN   \n",
              "227821    NaN            NaN        NaN          NaN           NaN   \n",
              "227822    NaN            NaN        NaN          NaN           NaN   \n",
              "227823    NaN            NaN        NaN          NaN           NaN   \n",
              "\n",
              "        Pleural Effusion  Pleural Other  Fracture  Support Devices  \n",
              "0                    NaN            NaN       NaN              1.0  \n",
              "1                    NaN            NaN       NaN              1.0  \n",
              "2                    1.0            NaN       NaN              1.0  \n",
              "3                    NaN            NaN       NaN              1.0  \n",
              "4                    NaN            NaN       NaN              NaN  \n",
              "...                  ...            ...       ...              ...  \n",
              "227819               NaN            NaN       NaN              NaN  \n",
              "227820               NaN            NaN       NaN              NaN  \n",
              "227821               NaN            NaN       NaN              NaN  \n",
              "227822               NaN            NaN       NaN              NaN  \n",
              "227823               NaN            NaN       NaN              NaN  \n",
              "\n",
              "[227824 rows x 15 columns]"
            ],
            "text/html": [
              "\n",
              "  <div id=\"df-ca7c38bd-f70f-4d09-9e29-b8d0b9736fbc\">\n",
              "    <div class=\"colab-df-container\">\n",
              "      <div>\n",
              "<style scoped>\n",
              "    .dataframe tbody tr th:only-of-type {\n",
              "        vertical-align: middle;\n",
              "    }\n",
              "\n",
              "    .dataframe tbody tr th {\n",
              "        vertical-align: top;\n",
              "    }\n",
              "\n",
              "    .dataframe thead th {\n",
              "        text-align: right;\n",
              "    }\n",
              "</style>\n",
              "<table border=\"1\" class=\"dataframe\">\n",
              "  <thead>\n",
              "    <tr style=\"text-align: right;\">\n",
              "      <th></th>\n",
              "      <th>Reports</th>\n",
              "      <th>No Finding</th>\n",
              "      <th>Enlarged Cardiomediastinum</th>\n",
              "      <th>Cardiomegaly</th>\n",
              "      <th>Lung Lesion</th>\n",
              "      <th>Lung Opacity</th>\n",
              "      <th>Edema</th>\n",
              "      <th>Consolidation</th>\n",
              "      <th>Pneumonia</th>\n",
              "      <th>Atelectasis</th>\n",
              "      <th>Pneumothorax</th>\n",
              "      <th>Pleural Effusion</th>\n",
              "      <th>Pleural Other</th>\n",
              "      <th>Fracture</th>\n",
              "      <th>Support Devices</th>\n",
              "    </tr>\n",
              "  </thead>\n",
              "  <tbody>\n",
              "    <tr>\n",
              "      <th>0</th>\n",
              "      <td>\"Nasogastric tube ends in the upper stomach bu...</td>\n",
              "      <td>1.0</td>\n",
              "      <td>NaN</td>\n",
              "      <td>0.0</td>\n",
              "      <td>NaN</td>\n",
              "      <td>NaN</td>\n",
              "      <td>NaN</td>\n",
              "      <td>NaN</td>\n",
              "      <td>NaN</td>\n",
              "      <td>NaN</td>\n",
              "      <td>NaN</td>\n",
              "      <td>NaN</td>\n",
              "      <td>NaN</td>\n",
              "      <td>NaN</td>\n",
              "      <td>1.0</td>\n",
              "    </tr>\n",
              "    <tr>\n",
              "      <th>1</th>\n",
              "      <td>\"Cardiomediastinal silhouette is borderline en...</td>\n",
              "      <td>NaN</td>\n",
              "      <td>1.0</td>\n",
              "      <td>NaN</td>\n",
              "      <td>NaN</td>\n",
              "      <td>NaN</td>\n",
              "      <td>NaN</td>\n",
              "      <td>NaN</td>\n",
              "      <td>NaN</td>\n",
              "      <td>1.0</td>\n",
              "      <td>NaN</td>\n",
              "      <td>NaN</td>\n",
              "      <td>NaN</td>\n",
              "      <td>NaN</td>\n",
              "      <td>1.0</td>\n",
              "    </tr>\n",
              "    <tr>\n",
              "      <th>2</th>\n",
              "      <td>\"Compared to chest radiographs ___ through ___...</td>\n",
              "      <td>NaN</td>\n",
              "      <td>NaN</td>\n",
              "      <td>0.0</td>\n",
              "      <td>NaN</td>\n",
              "      <td>NaN</td>\n",
              "      <td>1.0</td>\n",
              "      <td>1.0</td>\n",
              "      <td>-1.0</td>\n",
              "      <td>-1.0</td>\n",
              "      <td>NaN</td>\n",
              "      <td>1.0</td>\n",
              "      <td>NaN</td>\n",
              "      <td>NaN</td>\n",
              "      <td>1.0</td>\n",
              "    </tr>\n",
              "    <tr>\n",
              "      <th>3</th>\n",
              "      <td>\"AP chest compared to ___:  Nasogastric tube e...</td>\n",
              "      <td>NaN</td>\n",
              "      <td>NaN</td>\n",
              "      <td>NaN</td>\n",
              "      <td>NaN</td>\n",
              "      <td>NaN</td>\n",
              "      <td>NaN</td>\n",
              "      <td>NaN</td>\n",
              "      <td>NaN</td>\n",
              "      <td>1.0</td>\n",
              "      <td>0.0</td>\n",
              "      <td>NaN</td>\n",
              "      <td>NaN</td>\n",
              "      <td>NaN</td>\n",
              "      <td>1.0</td>\n",
              "    </tr>\n",
              "    <tr>\n",
              "      <th>4</th>\n",
              "      <td>\"PA and lateral views of the chest provided.  ...</td>\n",
              "      <td>NaN</td>\n",
              "      <td>1.0</td>\n",
              "      <td>NaN</td>\n",
              "      <td>NaN</td>\n",
              "      <td>1.0</td>\n",
              "      <td>NaN</td>\n",
              "      <td>NaN</td>\n",
              "      <td>NaN</td>\n",
              "      <td>NaN</td>\n",
              "      <td>NaN</td>\n",
              "      <td>NaN</td>\n",
              "      <td>NaN</td>\n",
              "      <td>NaN</td>\n",
              "      <td>NaN</td>\n",
              "    </tr>\n",
              "    <tr>\n",
              "      <th>...</th>\n",
              "      <td>...</td>\n",
              "      <td>...</td>\n",
              "      <td>...</td>\n",
              "      <td>...</td>\n",
              "      <td>...</td>\n",
              "      <td>...</td>\n",
              "      <td>...</td>\n",
              "      <td>...</td>\n",
              "      <td>...</td>\n",
              "      <td>...</td>\n",
              "      <td>...</td>\n",
              "      <td>...</td>\n",
              "      <td>...</td>\n",
              "      <td>...</td>\n",
              "      <td>...</td>\n",
              "    </tr>\n",
              "    <tr>\n",
              "      <th>227819</th>\n",
              "      <td>\"ET tube in standard placement.  Left jugular ...</td>\n",
              "      <td>NaN</td>\n",
              "      <td>NaN</td>\n",
              "      <td>NaN</td>\n",
              "      <td>NaN</td>\n",
              "      <td>NaN</td>\n",
              "      <td>NaN</td>\n",
              "      <td>NaN</td>\n",
              "      <td>NaN</td>\n",
              "      <td>NaN</td>\n",
              "      <td>NaN</td>\n",
              "      <td>NaN</td>\n",
              "      <td>NaN</td>\n",
              "      <td>NaN</td>\n",
              "      <td>NaN</td>\n",
              "    </tr>\n",
              "    <tr>\n",
              "      <th>227820</th>\n",
              "      <td>\"Postoperative widening the cardiac silhouette...</td>\n",
              "      <td>NaN</td>\n",
              "      <td>NaN</td>\n",
              "      <td>NaN</td>\n",
              "      <td>NaN</td>\n",
              "      <td>NaN</td>\n",
              "      <td>NaN</td>\n",
              "      <td>NaN</td>\n",
              "      <td>NaN</td>\n",
              "      <td>NaN</td>\n",
              "      <td>NaN</td>\n",
              "      <td>NaN</td>\n",
              "      <td>NaN</td>\n",
              "      <td>NaN</td>\n",
              "      <td>NaN</td>\n",
              "    </tr>\n",
              "    <tr>\n",
              "      <th>227821</th>\n",
              "      <td>\"Pulmonary and mediastinal vascular congestion...</td>\n",
              "      <td>NaN</td>\n",
              "      <td>NaN</td>\n",
              "      <td>NaN</td>\n",
              "      <td>NaN</td>\n",
              "      <td>NaN</td>\n",
              "      <td>NaN</td>\n",
              "      <td>NaN</td>\n",
              "      <td>NaN</td>\n",
              "      <td>NaN</td>\n",
              "      <td>NaN</td>\n",
              "      <td>NaN</td>\n",
              "      <td>NaN</td>\n",
              "      <td>NaN</td>\n",
              "      <td>NaN</td>\n",
              "    </tr>\n",
              "    <tr>\n",
              "      <th>227822</th>\n",
              "      <td>\"In comparison to the chest radiograph obtaine...</td>\n",
              "      <td>NaN</td>\n",
              "      <td>NaN</td>\n",
              "      <td>NaN</td>\n",
              "      <td>NaN</td>\n",
              "      <td>NaN</td>\n",
              "      <td>NaN</td>\n",
              "      <td>NaN</td>\n",
              "      <td>NaN</td>\n",
              "      <td>NaN</td>\n",
              "      <td>NaN</td>\n",
              "      <td>NaN</td>\n",
              "      <td>NaN</td>\n",
              "      <td>NaN</td>\n",
              "      <td>NaN</td>\n",
              "    </tr>\n",
              "    <tr>\n",
              "      <th>227823</th>\n",
              "      <td>\"As compared to the previous radiograph, the p...</td>\n",
              "      <td>NaN</td>\n",
              "      <td>NaN</td>\n",
              "      <td>NaN</td>\n",
              "      <td>NaN</td>\n",
              "      <td>NaN</td>\n",
              "      <td>NaN</td>\n",
              "      <td>NaN</td>\n",
              "      <td>NaN</td>\n",
              "      <td>NaN</td>\n",
              "      <td>NaN</td>\n",
              "      <td>NaN</td>\n",
              "      <td>NaN</td>\n",
              "      <td>NaN</td>\n",
              "      <td>NaN</td>\n",
              "    </tr>\n",
              "  </tbody>\n",
              "</table>\n",
              "<p>227824 rows × 15 columns</p>\n",
              "</div>\n",
              "      <button class=\"colab-df-convert\" onclick=\"convertToInteractive('df-ca7c38bd-f70f-4d09-9e29-b8d0b9736fbc')\"\n",
              "              title=\"Convert this dataframe to an interactive table.\"\n",
              "              style=\"display:none;\">\n",
              "        \n",
              "  <svg xmlns=\"http://www.w3.org/2000/svg\" height=\"24px\"viewBox=\"0 0 24 24\"\n",
              "       width=\"24px\">\n",
              "    <path d=\"M0 0h24v24H0V0z\" fill=\"none\"/>\n",
              "    <path d=\"M18.56 5.44l.94 2.06.94-2.06 2.06-.94-2.06-.94-.94-2.06-.94 2.06-2.06.94zm-11 1L8.5 8.5l.94-2.06 2.06-.94-2.06-.94L8.5 2.5l-.94 2.06-2.06.94zm10 10l.94 2.06.94-2.06 2.06-.94-2.06-.94-.94-2.06-.94 2.06-2.06.94z\"/><path d=\"M17.41 7.96l-1.37-1.37c-.4-.4-.92-.59-1.43-.59-.52 0-1.04.2-1.43.59L10.3 9.45l-7.72 7.72c-.78.78-.78 2.05 0 2.83L4 21.41c.39.39.9.59 1.41.59.51 0 1.02-.2 1.41-.59l7.78-7.78 2.81-2.81c.8-.78.8-2.07 0-2.86zM5.41 20L4 18.59l7.72-7.72 1.47 1.35L5.41 20z\"/>\n",
              "  </svg>\n",
              "      </button>\n",
              "      \n",
              "  <style>\n",
              "    .colab-df-container {\n",
              "      display:flex;\n",
              "      flex-wrap:wrap;\n",
              "      gap: 12px;\n",
              "    }\n",
              "\n",
              "    .colab-df-convert {\n",
              "      background-color: #E8F0FE;\n",
              "      border: none;\n",
              "      border-radius: 50%;\n",
              "      cursor: pointer;\n",
              "      display: none;\n",
              "      fill: #1967D2;\n",
              "      height: 32px;\n",
              "      padding: 0 0 0 0;\n",
              "      width: 32px;\n",
              "    }\n",
              "\n",
              "    .colab-df-convert:hover {\n",
              "      background-color: #E2EBFA;\n",
              "      box-shadow: 0px 1px 2px rgba(60, 64, 67, 0.3), 0px 1px 3px 1px rgba(60, 64, 67, 0.15);\n",
              "      fill: #174EA6;\n",
              "    }\n",
              "\n",
              "    [theme=dark] .colab-df-convert {\n",
              "      background-color: #3B4455;\n",
              "      fill: #D2E3FC;\n",
              "    }\n",
              "\n",
              "    [theme=dark] .colab-df-convert:hover {\n",
              "      background-color: #434B5C;\n",
              "      box-shadow: 0px 1px 3px 1px rgba(0, 0, 0, 0.15);\n",
              "      filter: drop-shadow(0px 1px 2px rgba(0, 0, 0, 0.3));\n",
              "      fill: #FFFFFF;\n",
              "    }\n",
              "  </style>\n",
              "\n",
              "      <script>\n",
              "        const buttonEl =\n",
              "          document.querySelector('#df-ca7c38bd-f70f-4d09-9e29-b8d0b9736fbc button.colab-df-convert');\n",
              "        buttonEl.style.display =\n",
              "          google.colab.kernel.accessAllowed ? 'block' : 'none';\n",
              "\n",
              "        async function convertToInteractive(key) {\n",
              "          const element = document.querySelector('#df-ca7c38bd-f70f-4d09-9e29-b8d0b9736fbc');\n",
              "          const dataTable =\n",
              "            await google.colab.kernel.invokeFunction('convertToInteractive',\n",
              "                                                     [key], {});\n",
              "          if (!dataTable) return;\n",
              "\n",
              "          const docLinkHtml = 'Like what you see? Visit the ' +\n",
              "            '<a target=\"_blank\" href=https://colab.research.google.com/notebooks/data_table.ipynb>data table notebook</a>'\n",
              "            + ' to learn more about interactive tables.';\n",
              "          element.innerHTML = '';\n",
              "          dataTable['output_type'] = 'display_data';\n",
              "          await google.colab.output.renderOutput(dataTable, element);\n",
              "          const docLink = document.createElement('div');\n",
              "          docLink.innerHTML = docLinkHtml;\n",
              "          element.appendChild(docLink);\n",
              "        }\n",
              "      </script>\n",
              "    </div>\n",
              "  </div>\n",
              "  "
            ]
          },
          "metadata": {},
          "execution_count": 4
        }
      ]
    },
    {
      "cell_type": "code",
      "source": [
        "#replacing NaN in the dataframe with 0s\n",
        "df = df.fillna(0)\n"
      ],
      "metadata": {
        "id": "cIqKoxi92fsV"
      },
      "execution_count": null,
      "outputs": []
    },
    {
      "cell_type": "code",
      "source": [
        "# Seperating out the labels and the reports for training and testing\n",
        "reports = df.drop(['No Finding', 'Enlarged Cardiomediastinum', 'Cardiomegaly', 'Lung Lesion', 'Lung Opacity', 'Edema', 'Consolidation', 'Pneumonia', 'Atelectasis', 'Pneumothorax', 'Pleural Effusion', 'Pleural Other', 'Fracture', 'Support Devices'], axis=1)"
      ],
      "metadata": {
        "id": "0RSG4iZ5E8FG"
      },
      "execution_count": null,
      "outputs": []
    },
    {
      "cell_type": "code",
      "source": [
        "labels = df.drop('Reports', axis = 1)"
      ],
      "metadata": {
        "id": "ivw-1927Kdz0"
      },
      "execution_count": null,
      "outputs": []
    },
    {
      "cell_type": "code",
      "source": [
        "reports"
      ],
      "metadata": {
        "id": "VacidEvyKo6q",
        "outputId": "7f7ff203-2e9b-49d1-bd6d-7a7aebf81a23",
        "colab": {
          "base_uri": "https://localhost:8080/",
          "height": 424
        }
      },
      "execution_count": null,
      "outputs": [
        {
          "output_type": "execute_result",
          "data": {
            "text/plain": [
              "                                                  Reports\n",
              "0       \"Nasogastric tube ends in the upper stomach bu...\n",
              "1       \"Cardiomediastinal silhouette is borderline en...\n",
              "2       \"Compared to chest radiographs ___ through ___...\n",
              "3       \"AP chest compared to ___:  Nasogastric tube e...\n",
              "4       \"PA and lateral views of the chest provided.  ...\n",
              "...                                                   ...\n",
              "227819  \"ET tube in standard placement.  Left jugular ...\n",
              "227820  \"Postoperative widening the cardiac silhouette...\n",
              "227821  \"Pulmonary and mediastinal vascular congestion...\n",
              "227822  \"In comparison to the chest radiograph obtaine...\n",
              "227823  \"As compared to the previous radiograph, the p...\n",
              "\n",
              "[227824 rows x 1 columns]"
            ],
            "text/html": [
              "\n",
              "  <div id=\"df-c215e066-09f3-4c52-bd9b-6867e2dceb9f\">\n",
              "    <div class=\"colab-df-container\">\n",
              "      <div>\n",
              "<style scoped>\n",
              "    .dataframe tbody tr th:only-of-type {\n",
              "        vertical-align: middle;\n",
              "    }\n",
              "\n",
              "    .dataframe tbody tr th {\n",
              "        vertical-align: top;\n",
              "    }\n",
              "\n",
              "    .dataframe thead th {\n",
              "        text-align: right;\n",
              "    }\n",
              "</style>\n",
              "<table border=\"1\" class=\"dataframe\">\n",
              "  <thead>\n",
              "    <tr style=\"text-align: right;\">\n",
              "      <th></th>\n",
              "      <th>Reports</th>\n",
              "    </tr>\n",
              "  </thead>\n",
              "  <tbody>\n",
              "    <tr>\n",
              "      <th>0</th>\n",
              "      <td>\"Nasogastric tube ends in the upper stomach bu...</td>\n",
              "    </tr>\n",
              "    <tr>\n",
              "      <th>1</th>\n",
              "      <td>\"Cardiomediastinal silhouette is borderline en...</td>\n",
              "    </tr>\n",
              "    <tr>\n",
              "      <th>2</th>\n",
              "      <td>\"Compared to chest radiographs ___ through ___...</td>\n",
              "    </tr>\n",
              "    <tr>\n",
              "      <th>3</th>\n",
              "      <td>\"AP chest compared to ___:  Nasogastric tube e...</td>\n",
              "    </tr>\n",
              "    <tr>\n",
              "      <th>4</th>\n",
              "      <td>\"PA and lateral views of the chest provided.  ...</td>\n",
              "    </tr>\n",
              "    <tr>\n",
              "      <th>...</th>\n",
              "      <td>...</td>\n",
              "    </tr>\n",
              "    <tr>\n",
              "      <th>227819</th>\n",
              "      <td>\"ET tube in standard placement.  Left jugular ...</td>\n",
              "    </tr>\n",
              "    <tr>\n",
              "      <th>227820</th>\n",
              "      <td>\"Postoperative widening the cardiac silhouette...</td>\n",
              "    </tr>\n",
              "    <tr>\n",
              "      <th>227821</th>\n",
              "      <td>\"Pulmonary and mediastinal vascular congestion...</td>\n",
              "    </tr>\n",
              "    <tr>\n",
              "      <th>227822</th>\n",
              "      <td>\"In comparison to the chest radiograph obtaine...</td>\n",
              "    </tr>\n",
              "    <tr>\n",
              "      <th>227823</th>\n",
              "      <td>\"As compared to the previous radiograph, the p...</td>\n",
              "    </tr>\n",
              "  </tbody>\n",
              "</table>\n",
              "<p>227824 rows × 1 columns</p>\n",
              "</div>\n",
              "      <button class=\"colab-df-convert\" onclick=\"convertToInteractive('df-c215e066-09f3-4c52-bd9b-6867e2dceb9f')\"\n",
              "              title=\"Convert this dataframe to an interactive table.\"\n",
              "              style=\"display:none;\">\n",
              "        \n",
              "  <svg xmlns=\"http://www.w3.org/2000/svg\" height=\"24px\"viewBox=\"0 0 24 24\"\n",
              "       width=\"24px\">\n",
              "    <path d=\"M0 0h24v24H0V0z\" fill=\"none\"/>\n",
              "    <path d=\"M18.56 5.44l.94 2.06.94-2.06 2.06-.94-2.06-.94-.94-2.06-.94 2.06-2.06.94zm-11 1L8.5 8.5l.94-2.06 2.06-.94-2.06-.94L8.5 2.5l-.94 2.06-2.06.94zm10 10l.94 2.06.94-2.06 2.06-.94-2.06-.94-.94-2.06-.94 2.06-2.06.94z\"/><path d=\"M17.41 7.96l-1.37-1.37c-.4-.4-.92-.59-1.43-.59-.52 0-1.04.2-1.43.59L10.3 9.45l-7.72 7.72c-.78.78-.78 2.05 0 2.83L4 21.41c.39.39.9.59 1.41.59.51 0 1.02-.2 1.41-.59l7.78-7.78 2.81-2.81c.8-.78.8-2.07 0-2.86zM5.41 20L4 18.59l7.72-7.72 1.47 1.35L5.41 20z\"/>\n",
              "  </svg>\n",
              "      </button>\n",
              "      \n",
              "  <style>\n",
              "    .colab-df-container {\n",
              "      display:flex;\n",
              "      flex-wrap:wrap;\n",
              "      gap: 12px;\n",
              "    }\n",
              "\n",
              "    .colab-df-convert {\n",
              "      background-color: #E8F0FE;\n",
              "      border: none;\n",
              "      border-radius: 50%;\n",
              "      cursor: pointer;\n",
              "      display: none;\n",
              "      fill: #1967D2;\n",
              "      height: 32px;\n",
              "      padding: 0 0 0 0;\n",
              "      width: 32px;\n",
              "    }\n",
              "\n",
              "    .colab-df-convert:hover {\n",
              "      background-color: #E2EBFA;\n",
              "      box-shadow: 0px 1px 2px rgba(60, 64, 67, 0.3), 0px 1px 3px 1px rgba(60, 64, 67, 0.15);\n",
              "      fill: #174EA6;\n",
              "    }\n",
              "\n",
              "    [theme=dark] .colab-df-convert {\n",
              "      background-color: #3B4455;\n",
              "      fill: #D2E3FC;\n",
              "    }\n",
              "\n",
              "    [theme=dark] .colab-df-convert:hover {\n",
              "      background-color: #434B5C;\n",
              "      box-shadow: 0px 1px 3px 1px rgba(0, 0, 0, 0.15);\n",
              "      filter: drop-shadow(0px 1px 2px rgba(0, 0, 0, 0.3));\n",
              "      fill: #FFFFFF;\n",
              "    }\n",
              "  </style>\n",
              "\n",
              "      <script>\n",
              "        const buttonEl =\n",
              "          document.querySelector('#df-c215e066-09f3-4c52-bd9b-6867e2dceb9f button.colab-df-convert');\n",
              "        buttonEl.style.display =\n",
              "          google.colab.kernel.accessAllowed ? 'block' : 'none';\n",
              "\n",
              "        async function convertToInteractive(key) {\n",
              "          const element = document.querySelector('#df-c215e066-09f3-4c52-bd9b-6867e2dceb9f');\n",
              "          const dataTable =\n",
              "            await google.colab.kernel.invokeFunction('convertToInteractive',\n",
              "                                                     [key], {});\n",
              "          if (!dataTable) return;\n",
              "\n",
              "          const docLinkHtml = 'Like what you see? Visit the ' +\n",
              "            '<a target=\"_blank\" href=https://colab.research.google.com/notebooks/data_table.ipynb>data table notebook</a>'\n",
              "            + ' to learn more about interactive tables.';\n",
              "          element.innerHTML = '';\n",
              "          dataTable['output_type'] = 'display_data';\n",
              "          await google.colab.output.renderOutput(dataTable, element);\n",
              "          const docLink = document.createElement('div');\n",
              "          docLink.innerHTML = docLinkHtml;\n",
              "          element.appendChild(docLink);\n",
              "        }\n",
              "      </script>\n",
              "    </div>\n",
              "  </div>\n",
              "  "
            ]
          },
          "metadata": {},
          "execution_count": 8
        }
      ]
    },
    {
      "cell_type": "code",
      "source": [
        "labels"
      ],
      "metadata": {
        "id": "FMxaBp_sKqr0",
        "outputId": "390a10b2-ae07-47c0-f3fa-4fa28888e965",
        "colab": {
          "base_uri": "https://localhost:8080/",
          "height": 468
        }
      },
      "execution_count": null,
      "outputs": [
        {
          "output_type": "execute_result",
          "data": {
            "text/plain": [
              "        No Finding  Enlarged Cardiomediastinum  Cardiomegaly  Lung Lesion  \\\n",
              "0              1.0                         0.0           0.0          0.0   \n",
              "1              0.0                         1.0           0.0          0.0   \n",
              "2              0.0                         0.0           0.0          0.0   \n",
              "3              0.0                         0.0           0.0          0.0   \n",
              "4              0.0                         1.0           0.0          0.0   \n",
              "...            ...                         ...           ...          ...   \n",
              "227819         0.0                         0.0           0.0          0.0   \n",
              "227820         0.0                         0.0           0.0          0.0   \n",
              "227821         0.0                         0.0           0.0          0.0   \n",
              "227822         0.0                         0.0           0.0          0.0   \n",
              "227823         0.0                         0.0           0.0          0.0   \n",
              "\n",
              "        Lung Opacity  Edema  Consolidation  Pneumonia  Atelectasis  \\\n",
              "0                0.0    0.0            0.0        0.0          0.0   \n",
              "1                0.0    0.0            0.0        0.0          1.0   \n",
              "2                0.0    1.0            1.0       -1.0         -1.0   \n",
              "3                0.0    0.0            0.0        0.0          1.0   \n",
              "4                1.0    0.0            0.0        0.0          0.0   \n",
              "...              ...    ...            ...        ...          ...   \n",
              "227819           0.0    0.0            0.0        0.0          0.0   \n",
              "227820           0.0    0.0            0.0        0.0          0.0   \n",
              "227821           0.0    0.0            0.0        0.0          0.0   \n",
              "227822           0.0    0.0            0.0        0.0          0.0   \n",
              "227823           0.0    0.0            0.0        0.0          0.0   \n",
              "\n",
              "        Pneumothorax  Pleural Effusion  Pleural Other  Fracture  \\\n",
              "0                0.0               0.0            0.0       0.0   \n",
              "1                0.0               0.0            0.0       0.0   \n",
              "2                0.0               1.0            0.0       0.0   \n",
              "3                0.0               0.0            0.0       0.0   \n",
              "4                0.0               0.0            0.0       0.0   \n",
              "...              ...               ...            ...       ...   \n",
              "227819           0.0               0.0            0.0       0.0   \n",
              "227820           0.0               0.0            0.0       0.0   \n",
              "227821           0.0               0.0            0.0       0.0   \n",
              "227822           0.0               0.0            0.0       0.0   \n",
              "227823           0.0               0.0            0.0       0.0   \n",
              "\n",
              "        Support Devices  \n",
              "0                   1.0  \n",
              "1                   1.0  \n",
              "2                   1.0  \n",
              "3                   1.0  \n",
              "4                   0.0  \n",
              "...                 ...  \n",
              "227819              0.0  \n",
              "227820              0.0  \n",
              "227821              0.0  \n",
              "227822              0.0  \n",
              "227823              0.0  \n",
              "\n",
              "[227824 rows x 14 columns]"
            ],
            "text/html": [
              "\n",
              "  <div id=\"df-2fd2cadf-98f8-44ed-952f-f3b73bd108b0\">\n",
              "    <div class=\"colab-df-container\">\n",
              "      <div>\n",
              "<style scoped>\n",
              "    .dataframe tbody tr th:only-of-type {\n",
              "        vertical-align: middle;\n",
              "    }\n",
              "\n",
              "    .dataframe tbody tr th {\n",
              "        vertical-align: top;\n",
              "    }\n",
              "\n",
              "    .dataframe thead th {\n",
              "        text-align: right;\n",
              "    }\n",
              "</style>\n",
              "<table border=\"1\" class=\"dataframe\">\n",
              "  <thead>\n",
              "    <tr style=\"text-align: right;\">\n",
              "      <th></th>\n",
              "      <th>No Finding</th>\n",
              "      <th>Enlarged Cardiomediastinum</th>\n",
              "      <th>Cardiomegaly</th>\n",
              "      <th>Lung Lesion</th>\n",
              "      <th>Lung Opacity</th>\n",
              "      <th>Edema</th>\n",
              "      <th>Consolidation</th>\n",
              "      <th>Pneumonia</th>\n",
              "      <th>Atelectasis</th>\n",
              "      <th>Pneumothorax</th>\n",
              "      <th>Pleural Effusion</th>\n",
              "      <th>Pleural Other</th>\n",
              "      <th>Fracture</th>\n",
              "      <th>Support Devices</th>\n",
              "    </tr>\n",
              "  </thead>\n",
              "  <tbody>\n",
              "    <tr>\n",
              "      <th>0</th>\n",
              "      <td>1.0</td>\n",
              "      <td>0.0</td>\n",
              "      <td>0.0</td>\n",
              "      <td>0.0</td>\n",
              "      <td>0.0</td>\n",
              "      <td>0.0</td>\n",
              "      <td>0.0</td>\n",
              "      <td>0.0</td>\n",
              "      <td>0.0</td>\n",
              "      <td>0.0</td>\n",
              "      <td>0.0</td>\n",
              "      <td>0.0</td>\n",
              "      <td>0.0</td>\n",
              "      <td>1.0</td>\n",
              "    </tr>\n",
              "    <tr>\n",
              "      <th>1</th>\n",
              "      <td>0.0</td>\n",
              "      <td>1.0</td>\n",
              "      <td>0.0</td>\n",
              "      <td>0.0</td>\n",
              "      <td>0.0</td>\n",
              "      <td>0.0</td>\n",
              "      <td>0.0</td>\n",
              "      <td>0.0</td>\n",
              "      <td>1.0</td>\n",
              "      <td>0.0</td>\n",
              "      <td>0.0</td>\n",
              "      <td>0.0</td>\n",
              "      <td>0.0</td>\n",
              "      <td>1.0</td>\n",
              "    </tr>\n",
              "    <tr>\n",
              "      <th>2</th>\n",
              "      <td>0.0</td>\n",
              "      <td>0.0</td>\n",
              "      <td>0.0</td>\n",
              "      <td>0.0</td>\n",
              "      <td>0.0</td>\n",
              "      <td>1.0</td>\n",
              "      <td>1.0</td>\n",
              "      <td>-1.0</td>\n",
              "      <td>-1.0</td>\n",
              "      <td>0.0</td>\n",
              "      <td>1.0</td>\n",
              "      <td>0.0</td>\n",
              "      <td>0.0</td>\n",
              "      <td>1.0</td>\n",
              "    </tr>\n",
              "    <tr>\n",
              "      <th>3</th>\n",
              "      <td>0.0</td>\n",
              "      <td>0.0</td>\n",
              "      <td>0.0</td>\n",
              "      <td>0.0</td>\n",
              "      <td>0.0</td>\n",
              "      <td>0.0</td>\n",
              "      <td>0.0</td>\n",
              "      <td>0.0</td>\n",
              "      <td>1.0</td>\n",
              "      <td>0.0</td>\n",
              "      <td>0.0</td>\n",
              "      <td>0.0</td>\n",
              "      <td>0.0</td>\n",
              "      <td>1.0</td>\n",
              "    </tr>\n",
              "    <tr>\n",
              "      <th>4</th>\n",
              "      <td>0.0</td>\n",
              "      <td>1.0</td>\n",
              "      <td>0.0</td>\n",
              "      <td>0.0</td>\n",
              "      <td>1.0</td>\n",
              "      <td>0.0</td>\n",
              "      <td>0.0</td>\n",
              "      <td>0.0</td>\n",
              "      <td>0.0</td>\n",
              "      <td>0.0</td>\n",
              "      <td>0.0</td>\n",
              "      <td>0.0</td>\n",
              "      <td>0.0</td>\n",
              "      <td>0.0</td>\n",
              "    </tr>\n",
              "    <tr>\n",
              "      <th>...</th>\n",
              "      <td>...</td>\n",
              "      <td>...</td>\n",
              "      <td>...</td>\n",
              "      <td>...</td>\n",
              "      <td>...</td>\n",
              "      <td>...</td>\n",
              "      <td>...</td>\n",
              "      <td>...</td>\n",
              "      <td>...</td>\n",
              "      <td>...</td>\n",
              "      <td>...</td>\n",
              "      <td>...</td>\n",
              "      <td>...</td>\n",
              "      <td>...</td>\n",
              "    </tr>\n",
              "    <tr>\n",
              "      <th>227819</th>\n",
              "      <td>0.0</td>\n",
              "      <td>0.0</td>\n",
              "      <td>0.0</td>\n",
              "      <td>0.0</td>\n",
              "      <td>0.0</td>\n",
              "      <td>0.0</td>\n",
              "      <td>0.0</td>\n",
              "      <td>0.0</td>\n",
              "      <td>0.0</td>\n",
              "      <td>0.0</td>\n",
              "      <td>0.0</td>\n",
              "      <td>0.0</td>\n",
              "      <td>0.0</td>\n",
              "      <td>0.0</td>\n",
              "    </tr>\n",
              "    <tr>\n",
              "      <th>227820</th>\n",
              "      <td>0.0</td>\n",
              "      <td>0.0</td>\n",
              "      <td>0.0</td>\n",
              "      <td>0.0</td>\n",
              "      <td>0.0</td>\n",
              "      <td>0.0</td>\n",
              "      <td>0.0</td>\n",
              "      <td>0.0</td>\n",
              "      <td>0.0</td>\n",
              "      <td>0.0</td>\n",
              "      <td>0.0</td>\n",
              "      <td>0.0</td>\n",
              "      <td>0.0</td>\n",
              "      <td>0.0</td>\n",
              "    </tr>\n",
              "    <tr>\n",
              "      <th>227821</th>\n",
              "      <td>0.0</td>\n",
              "      <td>0.0</td>\n",
              "      <td>0.0</td>\n",
              "      <td>0.0</td>\n",
              "      <td>0.0</td>\n",
              "      <td>0.0</td>\n",
              "      <td>0.0</td>\n",
              "      <td>0.0</td>\n",
              "      <td>0.0</td>\n",
              "      <td>0.0</td>\n",
              "      <td>0.0</td>\n",
              "      <td>0.0</td>\n",
              "      <td>0.0</td>\n",
              "      <td>0.0</td>\n",
              "    </tr>\n",
              "    <tr>\n",
              "      <th>227822</th>\n",
              "      <td>0.0</td>\n",
              "      <td>0.0</td>\n",
              "      <td>0.0</td>\n",
              "      <td>0.0</td>\n",
              "      <td>0.0</td>\n",
              "      <td>0.0</td>\n",
              "      <td>0.0</td>\n",
              "      <td>0.0</td>\n",
              "      <td>0.0</td>\n",
              "      <td>0.0</td>\n",
              "      <td>0.0</td>\n",
              "      <td>0.0</td>\n",
              "      <td>0.0</td>\n",
              "      <td>0.0</td>\n",
              "    </tr>\n",
              "    <tr>\n",
              "      <th>227823</th>\n",
              "      <td>0.0</td>\n",
              "      <td>0.0</td>\n",
              "      <td>0.0</td>\n",
              "      <td>0.0</td>\n",
              "      <td>0.0</td>\n",
              "      <td>0.0</td>\n",
              "      <td>0.0</td>\n",
              "      <td>0.0</td>\n",
              "      <td>0.0</td>\n",
              "      <td>0.0</td>\n",
              "      <td>0.0</td>\n",
              "      <td>0.0</td>\n",
              "      <td>0.0</td>\n",
              "      <td>0.0</td>\n",
              "    </tr>\n",
              "  </tbody>\n",
              "</table>\n",
              "<p>227824 rows × 14 columns</p>\n",
              "</div>\n",
              "      <button class=\"colab-df-convert\" onclick=\"convertToInteractive('df-2fd2cadf-98f8-44ed-952f-f3b73bd108b0')\"\n",
              "              title=\"Convert this dataframe to an interactive table.\"\n",
              "              style=\"display:none;\">\n",
              "        \n",
              "  <svg xmlns=\"http://www.w3.org/2000/svg\" height=\"24px\"viewBox=\"0 0 24 24\"\n",
              "       width=\"24px\">\n",
              "    <path d=\"M0 0h24v24H0V0z\" fill=\"none\"/>\n",
              "    <path d=\"M18.56 5.44l.94 2.06.94-2.06 2.06-.94-2.06-.94-.94-2.06-.94 2.06-2.06.94zm-11 1L8.5 8.5l.94-2.06 2.06-.94-2.06-.94L8.5 2.5l-.94 2.06-2.06.94zm10 10l.94 2.06.94-2.06 2.06-.94-2.06-.94-.94-2.06-.94 2.06-2.06.94z\"/><path d=\"M17.41 7.96l-1.37-1.37c-.4-.4-.92-.59-1.43-.59-.52 0-1.04.2-1.43.59L10.3 9.45l-7.72 7.72c-.78.78-.78 2.05 0 2.83L4 21.41c.39.39.9.59 1.41.59.51 0 1.02-.2 1.41-.59l7.78-7.78 2.81-2.81c.8-.78.8-2.07 0-2.86zM5.41 20L4 18.59l7.72-7.72 1.47 1.35L5.41 20z\"/>\n",
              "  </svg>\n",
              "      </button>\n",
              "      \n",
              "  <style>\n",
              "    .colab-df-container {\n",
              "      display:flex;\n",
              "      flex-wrap:wrap;\n",
              "      gap: 12px;\n",
              "    }\n",
              "\n",
              "    .colab-df-convert {\n",
              "      background-color: #E8F0FE;\n",
              "      border: none;\n",
              "      border-radius: 50%;\n",
              "      cursor: pointer;\n",
              "      display: none;\n",
              "      fill: #1967D2;\n",
              "      height: 32px;\n",
              "      padding: 0 0 0 0;\n",
              "      width: 32px;\n",
              "    }\n",
              "\n",
              "    .colab-df-convert:hover {\n",
              "      background-color: #E2EBFA;\n",
              "      box-shadow: 0px 1px 2px rgba(60, 64, 67, 0.3), 0px 1px 3px 1px rgba(60, 64, 67, 0.15);\n",
              "      fill: #174EA6;\n",
              "    }\n",
              "\n",
              "    [theme=dark] .colab-df-convert {\n",
              "      background-color: #3B4455;\n",
              "      fill: #D2E3FC;\n",
              "    }\n",
              "\n",
              "    [theme=dark] .colab-df-convert:hover {\n",
              "      background-color: #434B5C;\n",
              "      box-shadow: 0px 1px 3px 1px rgba(0, 0, 0, 0.15);\n",
              "      filter: drop-shadow(0px 1px 2px rgba(0, 0, 0, 0.3));\n",
              "      fill: #FFFFFF;\n",
              "    }\n",
              "  </style>\n",
              "\n",
              "      <script>\n",
              "        const buttonEl =\n",
              "          document.querySelector('#df-2fd2cadf-98f8-44ed-952f-f3b73bd108b0 button.colab-df-convert');\n",
              "        buttonEl.style.display =\n",
              "          google.colab.kernel.accessAllowed ? 'block' : 'none';\n",
              "\n",
              "        async function convertToInteractive(key) {\n",
              "          const element = document.querySelector('#df-2fd2cadf-98f8-44ed-952f-f3b73bd108b0');\n",
              "          const dataTable =\n",
              "            await google.colab.kernel.invokeFunction('convertToInteractive',\n",
              "                                                     [key], {});\n",
              "          if (!dataTable) return;\n",
              "\n",
              "          const docLinkHtml = 'Like what you see? Visit the ' +\n",
              "            '<a target=\"_blank\" href=https://colab.research.google.com/notebooks/data_table.ipynb>data table notebook</a>'\n",
              "            + ' to learn more about interactive tables.';\n",
              "          element.innerHTML = '';\n",
              "          dataTable['output_type'] = 'display_data';\n",
              "          await google.colab.output.renderOutput(dataTable, element);\n",
              "          const docLink = document.createElement('div');\n",
              "          docLink.innerHTML = docLinkHtml;\n",
              "          element.appendChild(docLink);\n",
              "        }\n",
              "      </script>\n",
              "    </div>\n",
              "  </div>\n",
              "  "
            ]
          },
          "metadata": {},
          "execution_count": 9
        }
      ]
    },
    {
      "cell_type": "code",
      "source": [
        "# Replacing all the negative values in the labels with 0\n",
        "labels[labels<0]=0"
      ],
      "metadata": {
        "id": "MQbCNKdPKr0B"
      },
      "execution_count": null,
      "outputs": []
    },
    {
      "cell_type": "code",
      "source": [
        "labels"
      ],
      "metadata": {
        "colab": {
          "base_uri": "https://localhost:8080/",
          "height": 468
        },
        "id": "YaojErN45Isq",
        "outputId": "d5705b6a-d986-4ae5-c016-00a6ef10cc8f"
      },
      "execution_count": null,
      "outputs": [
        {
          "output_type": "execute_result",
          "data": {
            "text/plain": [
              "        No Finding  Enlarged Cardiomediastinum  Cardiomegaly  Lung Lesion  \\\n",
              "0              1.0                         0.0           0.0          0.0   \n",
              "1              0.0                         1.0           0.0          0.0   \n",
              "2              0.0                         0.0           0.0          0.0   \n",
              "3              0.0                         0.0           0.0          0.0   \n",
              "4              0.0                         1.0           0.0          0.0   \n",
              "...            ...                         ...           ...          ...   \n",
              "227819         0.0                         0.0           0.0          0.0   \n",
              "227820         0.0                         0.0           0.0          0.0   \n",
              "227821         0.0                         0.0           0.0          0.0   \n",
              "227822         0.0                         0.0           0.0          0.0   \n",
              "227823         0.0                         0.0           0.0          0.0   \n",
              "\n",
              "        Lung Opacity  Edema  Consolidation  Pneumonia  Atelectasis  \\\n",
              "0                0.0    0.0            0.0        0.0          0.0   \n",
              "1                0.0    0.0            0.0        0.0          1.0   \n",
              "2                0.0    1.0            1.0        0.0          0.0   \n",
              "3                0.0    0.0            0.0        0.0          1.0   \n",
              "4                1.0    0.0            0.0        0.0          0.0   \n",
              "...              ...    ...            ...        ...          ...   \n",
              "227819           0.0    0.0            0.0        0.0          0.0   \n",
              "227820           0.0    0.0            0.0        0.0          0.0   \n",
              "227821           0.0    0.0            0.0        0.0          0.0   \n",
              "227822           0.0    0.0            0.0        0.0          0.0   \n",
              "227823           0.0    0.0            0.0        0.0          0.0   \n",
              "\n",
              "        Pneumothorax  Pleural Effusion  Pleural Other  Fracture  \\\n",
              "0                0.0               0.0            0.0       0.0   \n",
              "1                0.0               0.0            0.0       0.0   \n",
              "2                0.0               1.0            0.0       0.0   \n",
              "3                0.0               0.0            0.0       0.0   \n",
              "4                0.0               0.0            0.0       0.0   \n",
              "...              ...               ...            ...       ...   \n",
              "227819           0.0               0.0            0.0       0.0   \n",
              "227820           0.0               0.0            0.0       0.0   \n",
              "227821           0.0               0.0            0.0       0.0   \n",
              "227822           0.0               0.0            0.0       0.0   \n",
              "227823           0.0               0.0            0.0       0.0   \n",
              "\n",
              "        Support Devices  \n",
              "0                   1.0  \n",
              "1                   1.0  \n",
              "2                   1.0  \n",
              "3                   1.0  \n",
              "4                   0.0  \n",
              "...                 ...  \n",
              "227819              0.0  \n",
              "227820              0.0  \n",
              "227821              0.0  \n",
              "227822              0.0  \n",
              "227823              0.0  \n",
              "\n",
              "[227824 rows x 14 columns]"
            ],
            "text/html": [
              "\n",
              "  <div id=\"df-f66a714f-8967-4ee3-b0e0-c06d9e8c2cc8\">\n",
              "    <div class=\"colab-df-container\">\n",
              "      <div>\n",
              "<style scoped>\n",
              "    .dataframe tbody tr th:only-of-type {\n",
              "        vertical-align: middle;\n",
              "    }\n",
              "\n",
              "    .dataframe tbody tr th {\n",
              "        vertical-align: top;\n",
              "    }\n",
              "\n",
              "    .dataframe thead th {\n",
              "        text-align: right;\n",
              "    }\n",
              "</style>\n",
              "<table border=\"1\" class=\"dataframe\">\n",
              "  <thead>\n",
              "    <tr style=\"text-align: right;\">\n",
              "      <th></th>\n",
              "      <th>No Finding</th>\n",
              "      <th>Enlarged Cardiomediastinum</th>\n",
              "      <th>Cardiomegaly</th>\n",
              "      <th>Lung Lesion</th>\n",
              "      <th>Lung Opacity</th>\n",
              "      <th>Edema</th>\n",
              "      <th>Consolidation</th>\n",
              "      <th>Pneumonia</th>\n",
              "      <th>Atelectasis</th>\n",
              "      <th>Pneumothorax</th>\n",
              "      <th>Pleural Effusion</th>\n",
              "      <th>Pleural Other</th>\n",
              "      <th>Fracture</th>\n",
              "      <th>Support Devices</th>\n",
              "    </tr>\n",
              "  </thead>\n",
              "  <tbody>\n",
              "    <tr>\n",
              "      <th>0</th>\n",
              "      <td>1.0</td>\n",
              "      <td>0.0</td>\n",
              "      <td>0.0</td>\n",
              "      <td>0.0</td>\n",
              "      <td>0.0</td>\n",
              "      <td>0.0</td>\n",
              "      <td>0.0</td>\n",
              "      <td>0.0</td>\n",
              "      <td>0.0</td>\n",
              "      <td>0.0</td>\n",
              "      <td>0.0</td>\n",
              "      <td>0.0</td>\n",
              "      <td>0.0</td>\n",
              "      <td>1.0</td>\n",
              "    </tr>\n",
              "    <tr>\n",
              "      <th>1</th>\n",
              "      <td>0.0</td>\n",
              "      <td>1.0</td>\n",
              "      <td>0.0</td>\n",
              "      <td>0.0</td>\n",
              "      <td>0.0</td>\n",
              "      <td>0.0</td>\n",
              "      <td>0.0</td>\n",
              "      <td>0.0</td>\n",
              "      <td>1.0</td>\n",
              "      <td>0.0</td>\n",
              "      <td>0.0</td>\n",
              "      <td>0.0</td>\n",
              "      <td>0.0</td>\n",
              "      <td>1.0</td>\n",
              "    </tr>\n",
              "    <tr>\n",
              "      <th>2</th>\n",
              "      <td>0.0</td>\n",
              "      <td>0.0</td>\n",
              "      <td>0.0</td>\n",
              "      <td>0.0</td>\n",
              "      <td>0.0</td>\n",
              "      <td>1.0</td>\n",
              "      <td>1.0</td>\n",
              "      <td>0.0</td>\n",
              "      <td>0.0</td>\n",
              "      <td>0.0</td>\n",
              "      <td>1.0</td>\n",
              "      <td>0.0</td>\n",
              "      <td>0.0</td>\n",
              "      <td>1.0</td>\n",
              "    </tr>\n",
              "    <tr>\n",
              "      <th>3</th>\n",
              "      <td>0.0</td>\n",
              "      <td>0.0</td>\n",
              "      <td>0.0</td>\n",
              "      <td>0.0</td>\n",
              "      <td>0.0</td>\n",
              "      <td>0.0</td>\n",
              "      <td>0.0</td>\n",
              "      <td>0.0</td>\n",
              "      <td>1.0</td>\n",
              "      <td>0.0</td>\n",
              "      <td>0.0</td>\n",
              "      <td>0.0</td>\n",
              "      <td>0.0</td>\n",
              "      <td>1.0</td>\n",
              "    </tr>\n",
              "    <tr>\n",
              "      <th>4</th>\n",
              "      <td>0.0</td>\n",
              "      <td>1.0</td>\n",
              "      <td>0.0</td>\n",
              "      <td>0.0</td>\n",
              "      <td>1.0</td>\n",
              "      <td>0.0</td>\n",
              "      <td>0.0</td>\n",
              "      <td>0.0</td>\n",
              "      <td>0.0</td>\n",
              "      <td>0.0</td>\n",
              "      <td>0.0</td>\n",
              "      <td>0.0</td>\n",
              "      <td>0.0</td>\n",
              "      <td>0.0</td>\n",
              "    </tr>\n",
              "    <tr>\n",
              "      <th>...</th>\n",
              "      <td>...</td>\n",
              "      <td>...</td>\n",
              "      <td>...</td>\n",
              "      <td>...</td>\n",
              "      <td>...</td>\n",
              "      <td>...</td>\n",
              "      <td>...</td>\n",
              "      <td>...</td>\n",
              "      <td>...</td>\n",
              "      <td>...</td>\n",
              "      <td>...</td>\n",
              "      <td>...</td>\n",
              "      <td>...</td>\n",
              "      <td>...</td>\n",
              "    </tr>\n",
              "    <tr>\n",
              "      <th>227819</th>\n",
              "      <td>0.0</td>\n",
              "      <td>0.0</td>\n",
              "      <td>0.0</td>\n",
              "      <td>0.0</td>\n",
              "      <td>0.0</td>\n",
              "      <td>0.0</td>\n",
              "      <td>0.0</td>\n",
              "      <td>0.0</td>\n",
              "      <td>0.0</td>\n",
              "      <td>0.0</td>\n",
              "      <td>0.0</td>\n",
              "      <td>0.0</td>\n",
              "      <td>0.0</td>\n",
              "      <td>0.0</td>\n",
              "    </tr>\n",
              "    <tr>\n",
              "      <th>227820</th>\n",
              "      <td>0.0</td>\n",
              "      <td>0.0</td>\n",
              "      <td>0.0</td>\n",
              "      <td>0.0</td>\n",
              "      <td>0.0</td>\n",
              "      <td>0.0</td>\n",
              "      <td>0.0</td>\n",
              "      <td>0.0</td>\n",
              "      <td>0.0</td>\n",
              "      <td>0.0</td>\n",
              "      <td>0.0</td>\n",
              "      <td>0.0</td>\n",
              "      <td>0.0</td>\n",
              "      <td>0.0</td>\n",
              "    </tr>\n",
              "    <tr>\n",
              "      <th>227821</th>\n",
              "      <td>0.0</td>\n",
              "      <td>0.0</td>\n",
              "      <td>0.0</td>\n",
              "      <td>0.0</td>\n",
              "      <td>0.0</td>\n",
              "      <td>0.0</td>\n",
              "      <td>0.0</td>\n",
              "      <td>0.0</td>\n",
              "      <td>0.0</td>\n",
              "      <td>0.0</td>\n",
              "      <td>0.0</td>\n",
              "      <td>0.0</td>\n",
              "      <td>0.0</td>\n",
              "      <td>0.0</td>\n",
              "    </tr>\n",
              "    <tr>\n",
              "      <th>227822</th>\n",
              "      <td>0.0</td>\n",
              "      <td>0.0</td>\n",
              "      <td>0.0</td>\n",
              "      <td>0.0</td>\n",
              "      <td>0.0</td>\n",
              "      <td>0.0</td>\n",
              "      <td>0.0</td>\n",
              "      <td>0.0</td>\n",
              "      <td>0.0</td>\n",
              "      <td>0.0</td>\n",
              "      <td>0.0</td>\n",
              "      <td>0.0</td>\n",
              "      <td>0.0</td>\n",
              "      <td>0.0</td>\n",
              "    </tr>\n",
              "    <tr>\n",
              "      <th>227823</th>\n",
              "      <td>0.0</td>\n",
              "      <td>0.0</td>\n",
              "      <td>0.0</td>\n",
              "      <td>0.0</td>\n",
              "      <td>0.0</td>\n",
              "      <td>0.0</td>\n",
              "      <td>0.0</td>\n",
              "      <td>0.0</td>\n",
              "      <td>0.0</td>\n",
              "      <td>0.0</td>\n",
              "      <td>0.0</td>\n",
              "      <td>0.0</td>\n",
              "      <td>0.0</td>\n",
              "      <td>0.0</td>\n",
              "    </tr>\n",
              "  </tbody>\n",
              "</table>\n",
              "<p>227824 rows × 14 columns</p>\n",
              "</div>\n",
              "      <button class=\"colab-df-convert\" onclick=\"convertToInteractive('df-f66a714f-8967-4ee3-b0e0-c06d9e8c2cc8')\"\n",
              "              title=\"Convert this dataframe to an interactive table.\"\n",
              "              style=\"display:none;\">\n",
              "        \n",
              "  <svg xmlns=\"http://www.w3.org/2000/svg\" height=\"24px\"viewBox=\"0 0 24 24\"\n",
              "       width=\"24px\">\n",
              "    <path d=\"M0 0h24v24H0V0z\" fill=\"none\"/>\n",
              "    <path d=\"M18.56 5.44l.94 2.06.94-2.06 2.06-.94-2.06-.94-.94-2.06-.94 2.06-2.06.94zm-11 1L8.5 8.5l.94-2.06 2.06-.94-2.06-.94L8.5 2.5l-.94 2.06-2.06.94zm10 10l.94 2.06.94-2.06 2.06-.94-2.06-.94-.94-2.06-.94 2.06-2.06.94z\"/><path d=\"M17.41 7.96l-1.37-1.37c-.4-.4-.92-.59-1.43-.59-.52 0-1.04.2-1.43.59L10.3 9.45l-7.72 7.72c-.78.78-.78 2.05 0 2.83L4 21.41c.39.39.9.59 1.41.59.51 0 1.02-.2 1.41-.59l7.78-7.78 2.81-2.81c.8-.78.8-2.07 0-2.86zM5.41 20L4 18.59l7.72-7.72 1.47 1.35L5.41 20z\"/>\n",
              "  </svg>\n",
              "      </button>\n",
              "      \n",
              "  <style>\n",
              "    .colab-df-container {\n",
              "      display:flex;\n",
              "      flex-wrap:wrap;\n",
              "      gap: 12px;\n",
              "    }\n",
              "\n",
              "    .colab-df-convert {\n",
              "      background-color: #E8F0FE;\n",
              "      border: none;\n",
              "      border-radius: 50%;\n",
              "      cursor: pointer;\n",
              "      display: none;\n",
              "      fill: #1967D2;\n",
              "      height: 32px;\n",
              "      padding: 0 0 0 0;\n",
              "      width: 32px;\n",
              "    }\n",
              "\n",
              "    .colab-df-convert:hover {\n",
              "      background-color: #E2EBFA;\n",
              "      box-shadow: 0px 1px 2px rgba(60, 64, 67, 0.3), 0px 1px 3px 1px rgba(60, 64, 67, 0.15);\n",
              "      fill: #174EA6;\n",
              "    }\n",
              "\n",
              "    [theme=dark] .colab-df-convert {\n",
              "      background-color: #3B4455;\n",
              "      fill: #D2E3FC;\n",
              "    }\n",
              "\n",
              "    [theme=dark] .colab-df-convert:hover {\n",
              "      background-color: #434B5C;\n",
              "      box-shadow: 0px 1px 3px 1px rgba(0, 0, 0, 0.15);\n",
              "      filter: drop-shadow(0px 1px 2px rgba(0, 0, 0, 0.3));\n",
              "      fill: #FFFFFF;\n",
              "    }\n",
              "  </style>\n",
              "\n",
              "      <script>\n",
              "        const buttonEl =\n",
              "          document.querySelector('#df-f66a714f-8967-4ee3-b0e0-c06d9e8c2cc8 button.colab-df-convert');\n",
              "        buttonEl.style.display =\n",
              "          google.colab.kernel.accessAllowed ? 'block' : 'none';\n",
              "\n",
              "        async function convertToInteractive(key) {\n",
              "          const element = document.querySelector('#df-f66a714f-8967-4ee3-b0e0-c06d9e8c2cc8');\n",
              "          const dataTable =\n",
              "            await google.colab.kernel.invokeFunction('convertToInteractive',\n",
              "                                                     [key], {});\n",
              "          if (!dataTable) return;\n",
              "\n",
              "          const docLinkHtml = 'Like what you see? Visit the ' +\n",
              "            '<a target=\"_blank\" href=https://colab.research.google.com/notebooks/data_table.ipynb>data table notebook</a>'\n",
              "            + ' to learn more about interactive tables.';\n",
              "          element.innerHTML = '';\n",
              "          dataTable['output_type'] = 'display_data';\n",
              "          await google.colab.output.renderOutput(dataTable, element);\n",
              "          const docLink = document.createElement('div');\n",
              "          docLink.innerHTML = docLinkHtml;\n",
              "          element.appendChild(docLink);\n",
              "        }\n",
              "      </script>\n",
              "    </div>\n",
              "  </div>\n",
              "  "
            ]
          },
          "metadata": {},
          "execution_count": 11
        }
      ]
    },
    {
      "cell_type": "code",
      "source": [
        "# converting dataframe to numpy array\n",
        "label_array = np.array(labels)"
      ],
      "metadata": {
        "id": "7igfnjZXOiwN"
      },
      "execution_count": null,
      "outputs": []
    },
    {
      "cell_type": "code",
      "source": [
        "label_array"
      ],
      "metadata": {
        "colab": {
          "base_uri": "https://localhost:8080/"
        },
        "id": "bSP2n-JIOyhF",
        "outputId": "938df2d8-6c44-4c16-df6e-491deadaa124"
      },
      "execution_count": null,
      "outputs": [
        {
          "output_type": "execute_result",
          "data": {
            "text/plain": [
              "array([[1., 0., 0., ..., 0., 0., 1.],\n",
              "       [0., 1., 0., ..., 0., 0., 1.],\n",
              "       [0., 0., 0., ..., 0., 0., 1.],\n",
              "       ...,\n",
              "       [0., 0., 0., ..., 0., 0., 0.],\n",
              "       [0., 0., 0., ..., 0., 0., 0.],\n",
              "       [0., 0., 0., ..., 0., 0., 0.]])"
            ]
          },
          "metadata": {},
          "execution_count": 13
        }
      ]
    },
    {
      "cell_type": "markdown",
      "source": [
        "### Defining the auxiliary functions to be used in text preprocessing"
      ],
      "metadata": {
        "id": "oS33samgogf-"
      }
    },
    {
      "cell_type": "code",
      "source": [
        "\n",
        "def remove_punctuation(text):\n",
        "  res = re.sub(r'[^\\w\\s]', '', text)\n",
        "  return res\n",
        "\n",
        "def remove_underscores(text):\n",
        "  res = re.sub(r'_', '', text)\n",
        "  return res\n",
        "\n",
        "def remove_numbers(text):\n",
        "  res = re.sub(r'[0-9]', '', text)\n",
        "  return res\n",
        "\n",
        "def stemmer_fun(text):\n",
        "  text = text.split()\n",
        "  stemmer = SnowballStemmer('english')\n",
        "  stemmed_words = [stemmer.stem(word) for word in text]\n",
        "  final_text = text = \" \".join(stemmed_words)\n",
        "  return final_text"
      ],
      "metadata": {
        "id": "dfp3R8NHCmhb"
      },
      "execution_count": null,
      "outputs": []
    },
    {
      "cell_type": "markdown",
      "source": [
        "### Defining the text preprocessing function."
      ],
      "metadata": {
        "id": "0qzRJScXoqXw"
      }
    },
    {
      "cell_type": "code",
      "source": [
        "def text_preprocessing(text):\n",
        "  text = text.str.lower()\n",
        "  text = text.apply(lambda text: remove_punctuation(text))\n",
        "  text = text.apply(lambda text: remove_numbers(text))\n",
        "  text = text.apply(lambda text: remove_underscores(text))\n",
        "  final_text = text.apply(lambda text: stemmer_fun(text))\n",
        "  return final_text"
      ],
      "metadata": {
        "id": "9zBr_Mtq5J39"
      },
      "execution_count": null,
      "outputs": []
    },
    {
      "cell_type": "code",
      "source": [
        "filtered_reports = text_preprocessing(reports['Reports'])"
      ],
      "metadata": {
        "id": "yzeNa5OZ7bWF"
      },
      "execution_count": null,
      "outputs": []
    },
    {
      "cell_type": "code",
      "source": [
        "report_array = np.array(filtered_reports)"
      ],
      "metadata": {
        "id": "yJ3rOrgyDwIv"
      },
      "execution_count": null,
      "outputs": []
    },
    {
      "cell_type": "markdown",
      "source": [
        "### Using the tensorflow TextVectorization for encoding the text."
      ],
      "metadata": {
        "id": "fUYigMpKpXTX"
      }
    },
    {
      "cell_type": "code",
      "source": [
        "encoder = tf.keras.layers.TextVectorization()\n",
        "encoder.adapt(report_array)\n",
        "encoded_text = encoder(report_array)\n",
        "vocab = encoder.get_vocabulary()"
      ],
      "metadata": {
        "id": "bMlHMzNXeZL8"
      },
      "execution_count": null,
      "outputs": []
    },
    {
      "cell_type": "code",
      "source": [
        "length_vocab = len(vocab)"
      ],
      "metadata": {
        "id": "vJkG0GG8Vquk"
      },
      "execution_count": null,
      "outputs": []
    },
    {
      "cell_type": "code",
      "source": [
        "encoded_array  = np.array(encoded_text)"
      ],
      "metadata": {
        "id": "PFtp6uP-etqp"
      },
      "execution_count": null,
      "outputs": []
    },
    {
      "cell_type": "code",
      "source": [
        "encoded_array"
      ],
      "metadata": {
        "colab": {
          "base_uri": "https://localhost:8080/"
        },
        "id": "KdoZ724x2UDD",
        "outputId": "58a40304-31d0-403f-8b48-af8030068220"
      },
      "execution_count": null,
      "outputs": [
        {
          "output_type": "execute_result",
          "data": {
            "text/plain": [
              "array([[183,  26, 152, ...,   0,   0,   0],\n",
              "       [ 43,  25,   3, ...,   0,   0,   0],\n",
              "       [ 46,  16,  22, ...,   0,   0,   0],\n",
              "       ...,\n",
              "       [ 20,   6,  36, ...,   0,   0,   0],\n",
              "       [  8,  65,  16, ...,   0,   0,   0],\n",
              "       [ 55,  46,  16, ...,   0,   0,   0]])"
            ]
          },
          "metadata": {},
          "execution_count": 24
        }
      ]
    },
    {
      "cell_type": "code",
      "source": [
        "x_tv, x_test, y_tv, y_test = train_test_split(encoded_array, label_array, test_size=0.2, random_state=42)"
      ],
      "metadata": {
        "id": "yx9PuvK0J9pr"
      },
      "execution_count": null,
      "outputs": []
    },
    {
      "cell_type": "code",
      "source": [
        "len(x_test)"
      ],
      "metadata": {
        "id": "NkxvTJrDiFlO",
        "colab": {
          "base_uri": "https://localhost:8080/"
        },
        "outputId": "6eedb544-4778-45a3-f795-bd49c5bcfb21"
      },
      "execution_count": null,
      "outputs": [
        {
          "output_type": "execute_result",
          "data": {
            "text/plain": [
              "45565"
            ]
          },
          "metadata": {},
          "execution_count": 26
        }
      ]
    },
    {
      "cell_type": "code",
      "source": [
        "x_train, x_valid, y_train, y_valid = train_test_split(x_tv, y_tv, test_size = 0.2, random_state = 42)"
      ],
      "metadata": {
        "id": "i_gKDoomfm3e"
      },
      "execution_count": null,
      "outputs": []
    },
    {
      "cell_type": "code",
      "source": [
        "len(x_train)"
      ],
      "metadata": {
        "id": "y2FNhYfcd-Xw",
        "colab": {
          "base_uri": "https://localhost:8080/"
        },
        "outputId": "ed830204-9c8f-4b7b-f1dd-2a7ba800867a"
      },
      "execution_count": null,
      "outputs": [
        {
          "output_type": "execute_result",
          "data": {
            "text/plain": [
              "145807"
            ]
          },
          "metadata": {},
          "execution_count": 28
        }
      ]
    },
    {
      "cell_type": "code",
      "source": [
        "len(y_train)"
      ],
      "metadata": {
        "id": "4Z8J_GS6eC0f",
        "colab": {
          "base_uri": "https://localhost:8080/"
        },
        "outputId": "0be67686-42aa-48c8-f221-9520182dd2bd"
      },
      "execution_count": null,
      "outputs": [
        {
          "output_type": "execute_result",
          "data": {
            "text/plain": [
              "145807"
            ]
          },
          "metadata": {},
          "execution_count": 29
        }
      ]
    },
    {
      "cell_type": "markdown",
      "source": [
        "### Creating a DataGenerator to create test, train and validation data to be feeded into the model."
      ],
      "metadata": {
        "id": "33nrGENIqcJe"
      }
    },
    {
      "cell_type": "code",
      "source": [
        "import numpy as np\n",
        "import keras\n",
        "\n",
        "class DataGenerator(keras.utils.Sequence):\n",
        "    'Generates data for Keras'\n",
        "    def __init__(self, text, labels, batch_size=32,\n",
        "                 n_classes=15, shuffle=True, validation=False, test = False, train = True):\n",
        "        'Initialization'\n",
        "        self.text = text\n",
        "        encoder = tf.keras.layers.TextVectorization()\n",
        "        encoder.adapt(self.text)\n",
        "        self.encoded_text = encoder(self.text)\n",
        "        self.labels = labels\n",
        "        self.batch_size = batch_size\n",
        "        self.n_classes = n_classes\n",
        "        self.shuffle = shuffle\n",
        "        self.validation = validation\n",
        "        self.test = test\n",
        "        self.train = train\n",
        "        x_tv, x_test, y_tv, y_test = train_test_split(self.encoded_text.numpy(), self.labels, test_size=0.2, random_state=42)\n",
        "        x_train, x_valid, y_train, y_valid = train_test_split(x_tv, y_tv, test_size = 0.2, random_state = 42)\n",
        "        if(self.validation):\n",
        "          self.final_text = x_valid\n",
        "          self.labels = y_valid\n",
        "        if(self.test):\n",
        "          self.final_text = x_test\n",
        "          self.labels = y_test\n",
        "        if(self.train):\n",
        "          self.final_text = x_train\n",
        "          self.labels = y_train\n",
        "        self.on_epoch_end()\n",
        "        \n",
        "\n",
        "    def __len__(self):\n",
        "        'Denotes the number of batches per epoch'\n",
        "        return int(np.floor(len(self.final_text) / self.batch_size))\n",
        "\n",
        "    def __getitem__(self, index):\n",
        "        'Generate one batch of data'\n",
        "        # Generate indexes of the batch\n",
        "        indexes = self.indexes[index*self.batch_size:(index+1)*self.batch_size]\n",
        "\n",
        "        # Find list of IDs\n",
        "       # list_IDs_temp = [self.list_IDs[k] for k in indexes]\n",
        "\n",
        "        # Generate data\n",
        "        X, y = self.__data_generation(indexes)\n",
        "\n",
        "        return X, y\n",
        "\n",
        "    def on_epoch_end(self):\n",
        "        'Updates indexes after each epoch'\n",
        "        self.indexes = np.arange(len(self.labels))\n",
        "        if self.shuffle == True:\n",
        "          np.random.shuffle(self.indexes)\n",
        "\n",
        "    def __data_generation(self, listed_index):\n",
        "        'Generates data containing batch_size samples' # X : (n_samples, *dim, n_channels)\n",
        "        # Initialization\n",
        "        X = np.empty((self.batch_size, self.final_text.shape[1]))\n",
        "        X = X.astype(int)\n",
        "        y = np.empty((self.batch_size, self.n_classes), dtype=int)\n",
        "       \n",
        "        # Generate data\n",
        "        i = 0\n",
        "        for j in listed_index:\n",
        "            # Store sample\n",
        "            X[i,] = self.final_text[j]\n",
        "\n",
        "            # Store class\n",
        "            y[i] = self.labels[j]\n",
        "            i = i+1\n",
        "\n",
        "        return X, y"
      ],
      "metadata": {
        "id": "k2cuj3Ek-Ch7"
      },
      "execution_count": null,
      "outputs": []
    },
    {
      "cell_type": "code",
      "source": [
        "train_generator = DataGenerator(report_array, label_array, 32, 14, True, False, False, True)"
      ],
      "metadata": {
        "id": "ax_HdKVfaxim"
      },
      "execution_count": null,
      "outputs": []
    },
    {
      "cell_type": "code",
      "source": [
        "valid_generator = DataGenerator(report_array, label_array, 32, 14, True, True, False, False)"
      ],
      "metadata": {
        "id": "KJ4IQ-tQbTiC"
      },
      "execution_count": null,
      "outputs": []
    },
    {
      "cell_type": "code",
      "source": [
        "test_generator = DataGenerator(report_array, label_array, 32, 14, True, False, True, False)"
      ],
      "metadata": {
        "id": "Wx6t5n6cgCEm"
      },
      "execution_count": null,
      "outputs": []
    },
    {
      "cell_type": "markdown",
      "source": [
        "### Creating the first model with LSTM and Fully connected layers."
      ],
      "metadata": {
        "id": "2WWTZ7Mfs4C1"
      }
    },
    {
      "cell_type": "code",
      "source": [
        "model = tf.keras.Sequential()\n",
        "# Configuring the parameters\n",
        "model.add(tf.keras.layers.Embedding(10000, output_dim=1000, input_length=402))\n",
        "model.add(tf.keras.layers.LSTM(128, return_sequences=True))  \n",
        "# Adding a dropout layer\n",
        "model.add(tf.keras.layers.Dropout(0.5))\n",
        "model.add(tf.keras.layers.LSTM(64, return_sequences=True))\n",
        "model.add(tf.keras.layers.Dropout(0.5))\n",
        "model.add(tf.keras.layers.Flatten())\n",
        "# Adding a dense output layer with sigmoid activation\n",
        "model.add(tf.keras.layers.Dense(14,  activation='sigmoid'))\n",
        "model.summary()"
      ],
      "metadata": {
        "id": "-CMZkExmYw5d",
        "colab": {
          "base_uri": "https://localhost:8080/"
        },
        "outputId": "2220585b-3059-490d-c6f4-6dc24e38fa2f"
      },
      "execution_count": null,
      "outputs": [
        {
          "output_type": "stream",
          "name": "stdout",
          "text": [
            "Model: \"sequential\"\n",
            "_________________________________________________________________\n",
            " Layer (type)                Output Shape              Param #   \n",
            "=================================================================\n",
            " embedding (Embedding)       (None, 402, 1000)         10000000  \n",
            "                                                                 \n",
            " lstm (LSTM)                 (None, 402, 128)          578048    \n",
            "                                                                 \n",
            " dropout (Dropout)           (None, 402, 128)          0         \n",
            "                                                                 \n",
            " lstm_1 (LSTM)               (None, 402, 64)           49408     \n",
            "                                                                 \n",
            " dropout_1 (Dropout)         (None, 402, 64)           0         \n",
            "                                                                 \n",
            " flatten (Flatten)           (None, 25728)             0         \n",
            "                                                                 \n",
            " dense (Dense)               (None, 14)                360206    \n",
            "                                                                 \n",
            "=================================================================\n",
            "Total params: 10,987,662\n",
            "Trainable params: 10,987,662\n",
            "Non-trainable params: 0\n",
            "_________________________________________________________________\n"
          ]
        }
      ]
    },
    {
      "cell_type": "code",
      "source": [
        "model.compile(optimizer='adam', loss='binary_crossentropy')"
      ],
      "metadata": {
        "id": "NjVS9MFJae6Q"
      },
      "execution_count": null,
      "outputs": []
    },
    {
      "cell_type": "code",
      "source": [
        "history = model.fit_generator(generator=train_generator,\n",
        "                    validation_data=valid_generator,\n",
        "                    use_multiprocessing=True,\n",
        "                    workers=6,  epochs = 10)"
      ],
      "metadata": {
        "colab": {
          "base_uri": "https://localhost:8080/"
        },
        "id": "qRdW9VlAcw5g",
        "outputId": "618b27ff-d2b9-4f13-ded1-e1ed6da27f48"
      },
      "execution_count": null,
      "outputs": [
        {
          "output_type": "stream",
          "name": "stdout",
          "text": [
            "Epoch 1/10\n"
          ]
        },
        {
          "output_type": "stream",
          "name": "stderr",
          "text": [
            "<ipython-input-38-658eaab371a8>:1: UserWarning: `Model.fit_generator` is deprecated and will be removed in a future version. Please use `Model.fit`, which supports generators.\n",
            "  history = model.fit_generator(generator=train_generator,\n"
          ]
        },
        {
          "output_type": "stream",
          "name": "stdout",
          "text": [
            "4556/4556 [==============================] - 252s 53ms/step - loss: 0.0794 - val_loss: 0.0396\n",
            "Epoch 2/10\n",
            "4556/4556 [==============================] - 210s 46ms/step - loss: 0.0386 - val_loss: 0.0343\n",
            "Epoch 3/10\n",
            "4556/4556 [==============================] - 208s 45ms/step - loss: 0.0310 - val_loss: 0.0321\n",
            "Epoch 4/10\n",
            "4556/4556 [==============================] - 207s 45ms/step - loss: 0.0265 - val_loss: 0.0313\n",
            "Epoch 5/10\n",
            "4556/4556 [==============================] - 211s 46ms/step - loss: 0.0234 - val_loss: 0.0316\n",
            "Epoch 6/10\n",
            "4556/4556 [==============================] - 208s 46ms/step - loss: 0.0214 - val_loss: 0.0299\n",
            "Epoch 7/10\n",
            "4556/4556 [==============================] - 208s 46ms/step - loss: 0.0195 - val_loss: 0.0313\n",
            "Epoch 8/10\n",
            "4556/4556 [==============================] - 208s 45ms/step - loss: 0.0184 - val_loss: 0.0317\n",
            "Epoch 9/10\n",
            "4556/4556 [==============================] - 207s 45ms/step - loss: 0.0174 - val_loss: 0.0316\n",
            "Epoch 10/10\n",
            "4556/4556 [==============================] - 207s 45ms/step - loss: 0.0165 - val_loss: 0.0321\n"
          ]
        }
      ]
    },
    {
      "cell_type": "code",
      "source": [
        "y_predict = model.predict(x_test)"
      ],
      "metadata": {
        "colab": {
          "base_uri": "https://localhost:8080/"
        },
        "id": "eratEQXs156x",
        "outputId": "0dbff651-9f28-4571-c666-8eb81559478a"
      },
      "execution_count": null,
      "outputs": [
        {
          "output_type": "stream",
          "name": "stdout",
          "text": [
            "1424/1424 [==============================] - 21s 14ms/step\n"
          ]
        }
      ]
    },
    {
      "cell_type": "code",
      "source": [
        "len(y_predict)"
      ],
      "metadata": {
        "colab": {
          "base_uri": "https://localhost:8080/"
        },
        "id": "5Fd1sov52wao",
        "outputId": "f88bd5f6-541c-4000-a9eb-9c8212354ec6"
      },
      "execution_count": null,
      "outputs": [
        {
          "output_type": "execute_result",
          "data": {
            "text/plain": [
              "45565"
            ]
          },
          "metadata": {},
          "execution_count": 40
        }
      ]
    },
    {
      "cell_type": "code",
      "source": [
        "y_predict[0]"
      ],
      "metadata": {
        "colab": {
          "base_uri": "https://localhost:8080/"
        },
        "id": "PdVyNlGw3DFt",
        "outputId": "ae8b08ec-e182-42bf-e2f5-0331ed5ef8ed"
      },
      "execution_count": null,
      "outputs": [
        {
          "output_type": "execute_result",
          "data": {
            "text/plain": [
              "array([4.4983015e-12, 5.5344263e-04, 9.9987495e-01, 3.9015966e-05,\n",
              "       1.7434922e-04, 3.0264890e-04, 1.1245811e-04, 2.8058657e-04,\n",
              "       9.9475092e-01, 2.2056283e-04, 9.9889010e-01, 2.6660167e-05,\n",
              "       7.3806819e-05, 9.9942940e-01], dtype=float32)"
            ]
          },
          "metadata": {},
          "execution_count": 41
        }
      ]
    },
    {
      "cell_type": "code",
      "source": [
        "model.evaluate(x_test, y_test)"
      ],
      "metadata": {
        "colab": {
          "base_uri": "https://localhost:8080/"
        },
        "id": "bDv-irhJuOmT",
        "outputId": "522a1255-51d4-4af1-a5ab-1ac456ec8025"
      },
      "execution_count": null,
      "outputs": [
        {
          "output_type": "stream",
          "name": "stdout",
          "text": [
            "1424/1424 [==============================] - 23s 16ms/step - loss: 0.0312\n"
          ]
        },
        {
          "output_type": "execute_result",
          "data": {
            "text/plain": [
              "0.0311922337859869"
            ]
          },
          "metadata": {},
          "execution_count": 42
        }
      ]
    },
    {
      "cell_type": "markdown",
      "source": [
        "### Evaluating the accuracy metrics for first model for different threshold values of the sigmoid function."
      ],
      "metadata": {
        "id": "2Lz0-cHytEC8"
      }
    },
    {
      "cell_type": "code",
      "source": [
        "thresholds=[0.1,0.2,0.3,0.4,0.5,0.6,0.7,0.8,0.9]\n",
        "for val in thresholds:\n",
        "    pred=y_predict.copy()\n",
        "    pred[pred>=val]=1\n",
        "    pred[pred<val]=0\n",
        "    print(classification_report(y_test, pred))\n",
        "  "
      ],
      "metadata": {
        "colab": {
          "base_uri": "https://localhost:8080/"
        },
        "id": "MCtLlS_jwcwa",
        "outputId": "afc331d9-aaa9-4e26-d898-9f2cd40ef659"
      },
      "execution_count": null,
      "outputs": [
        {
          "output_type": "stream",
          "name": "stderr",
          "text": [
            "/usr/local/lib/python3.9/dist-packages/sklearn/metrics/_classification.py:1344: UndefinedMetricWarning: Precision and F-score are ill-defined and being set to 0.0 in samples with no predicted labels. Use `zero_division` parameter to control this behavior.\n",
            "  _warn_prf(average, modifier, msg_start, len(result))\n",
            "/usr/local/lib/python3.9/dist-packages/sklearn/metrics/_classification.py:1344: UndefinedMetricWarning: Recall and F-score are ill-defined and being set to 0.0 in samples with no true labels. Use `zero_division` parameter to control this behavior.\n",
            "  _warn_prf(average, modifier, msg_start, len(result))\n",
            "/usr/local/lib/python3.9/dist-packages/sklearn/metrics/_classification.py:1344: UndefinedMetricWarning: Precision and F-score are ill-defined and being set to 0.0 in samples with no predicted labels. Use `zero_division` parameter to control this behavior.\n",
            "  _warn_prf(average, modifier, msg_start, len(result))\n",
            "/usr/local/lib/python3.9/dist-packages/sklearn/metrics/_classification.py:1344: UndefinedMetricWarning: Recall and F-score are ill-defined and being set to 0.0 in samples with no true labels. Use `zero_division` parameter to control this behavior.\n",
            "  _warn_prf(average, modifier, msg_start, len(result))\n"
          ]
        },
        {
          "output_type": "stream",
          "name": "stdout",
          "text": [
            "              precision    recall  f1-score   support\n",
            "\n",
            "           0       0.91      0.99      0.95      8228\n",
            "           1       0.90      0.97      0.94      5819\n",
            "           2       0.96      0.99      0.98     14146\n",
            "           3       0.93      0.98      0.96      1647\n",
            "           4       0.97      1.00      0.98     13753\n",
            "           5       0.95      0.98      0.97      5681\n",
            "           6       0.91      0.97      0.94      2523\n",
            "           7       0.81      0.96      0.88      2993\n",
            "           8       0.97      0.99      0.98     11171\n",
            "           9       0.92      0.94      0.93      2443\n",
            "          10       0.97      0.99      0.98     12382\n",
            "          11       0.90      0.99      0.94       713\n",
            "          12       0.96      0.98      0.97      1488\n",
            "          13       0.98      1.00      0.99     17415\n",
            "\n",
            "   micro avg       0.95      0.99      0.97    100402\n",
            "   macro avg       0.93      0.98      0.95    100402\n",
            "weighted avg       0.95      0.99      0.97    100402\n",
            " samples avg       0.91      0.93      0.92    100402\n",
            "\n",
            "              precision    recall  f1-score   support\n",
            "\n",
            "           0       0.93      0.99      0.96      8228\n",
            "           1       0.93      0.96      0.94      5819\n",
            "           2       0.97      0.99      0.98     14146\n",
            "           3       0.94      0.98      0.96      1647\n",
            "           4       0.97      0.99      0.98     13753\n",
            "           5       0.96      0.98      0.97      5681\n",
            "           6       0.92      0.96      0.94      2523\n",
            "           7       0.86      0.94      0.90      2993\n",
            "           8       0.97      0.99      0.98     11171\n",
            "           9       0.94      0.94      0.94      2443\n",
            "          10       0.97      0.98      0.98     12382\n",
            "          11       0.91      0.99      0.95       713\n",
            "          12       0.96      0.98      0.97      1488\n",
            "          13       0.99      1.00      0.99     17415\n",
            "\n",
            "   micro avg       0.96      0.98      0.97    100402\n",
            "   macro avg       0.94      0.98      0.96    100402\n",
            "weighted avg       0.96      0.98      0.97    100402\n",
            " samples avg       0.92      0.93      0.92    100402\n",
            "\n"
          ]
        },
        {
          "output_type": "stream",
          "name": "stderr",
          "text": [
            "/usr/local/lib/python3.9/dist-packages/sklearn/metrics/_classification.py:1344: UndefinedMetricWarning: Precision and F-score are ill-defined and being set to 0.0 in samples with no predicted labels. Use `zero_division` parameter to control this behavior.\n",
            "  _warn_prf(average, modifier, msg_start, len(result))\n",
            "/usr/local/lib/python3.9/dist-packages/sklearn/metrics/_classification.py:1344: UndefinedMetricWarning: Recall and F-score are ill-defined and being set to 0.0 in samples with no true labels. Use `zero_division` parameter to control this behavior.\n",
            "  _warn_prf(average, modifier, msg_start, len(result))\n",
            "/usr/local/lib/python3.9/dist-packages/sklearn/metrics/_classification.py:1344: UndefinedMetricWarning: Precision and F-score are ill-defined and being set to 0.0 in samples with no predicted labels. Use `zero_division` parameter to control this behavior.\n",
            "  _warn_prf(average, modifier, msg_start, len(result))\n",
            "/usr/local/lib/python3.9/dist-packages/sklearn/metrics/_classification.py:1344: UndefinedMetricWarning: Recall and F-score are ill-defined and being set to 0.0 in samples with no true labels. Use `zero_division` parameter to control this behavior.\n",
            "  _warn_prf(average, modifier, msg_start, len(result))\n"
          ]
        },
        {
          "output_type": "stream",
          "name": "stdout",
          "text": [
            "              precision    recall  f1-score   support\n",
            "\n",
            "           0       0.94      0.98      0.96      8228\n",
            "           1       0.94      0.96      0.95      5819\n",
            "           2       0.97      0.99      0.98     14146\n",
            "           3       0.95      0.97      0.96      1647\n",
            "           4       0.98      0.99      0.98     13753\n",
            "           5       0.97      0.98      0.97      5681\n",
            "           6       0.93      0.96      0.95      2523\n",
            "           7       0.88      0.93      0.91      2993\n",
            "           8       0.97      0.99      0.98     11171\n",
            "           9       0.95      0.93      0.94      2443\n",
            "          10       0.98      0.98      0.98     12382\n",
            "          11       0.92      0.98      0.95       713\n",
            "          12       0.97      0.97      0.97      1488\n",
            "          13       0.99      0.99      0.99     17415\n",
            "\n",
            "   micro avg       0.97      0.98      0.97    100402\n",
            "   macro avg       0.95      0.97      0.96    100402\n",
            "weighted avg       0.97      0.98      0.97    100402\n",
            " samples avg       0.92      0.93      0.92    100402\n",
            "\n",
            "              precision    recall  f1-score   support\n",
            "\n",
            "           0       0.95      0.98      0.97      8228\n",
            "           1       0.94      0.95      0.95      5819\n",
            "           2       0.98      0.99      0.98     14146\n",
            "           3       0.95      0.96      0.96      1647\n",
            "           4       0.98      0.99      0.99     13753\n",
            "           5       0.97      0.98      0.97      5681\n",
            "           6       0.94      0.96      0.95      2523\n",
            "           7       0.89      0.93      0.91      2993\n",
            "           8       0.98      0.99      0.98     11171\n",
            "           9       0.96      0.92      0.94      2443\n",
            "          10       0.98      0.98      0.98     12382\n",
            "          11       0.93      0.98      0.95       713\n",
            "          12       0.97      0.97      0.97      1488\n",
            "          13       0.99      0.99      0.99     17415\n",
            "\n",
            "   micro avg       0.97      0.98      0.97    100402\n",
            "   macro avg       0.96      0.97      0.96    100402\n",
            "weighted avg       0.97      0.98      0.97    100402\n",
            " samples avg       0.92      0.93      0.92    100402\n",
            "\n"
          ]
        },
        {
          "output_type": "stream",
          "name": "stderr",
          "text": [
            "/usr/local/lib/python3.9/dist-packages/sklearn/metrics/_classification.py:1344: UndefinedMetricWarning: Precision and F-score are ill-defined and being set to 0.0 in samples with no predicted labels. Use `zero_division` parameter to control this behavior.\n",
            "  _warn_prf(average, modifier, msg_start, len(result))\n",
            "/usr/local/lib/python3.9/dist-packages/sklearn/metrics/_classification.py:1344: UndefinedMetricWarning: Recall and F-score are ill-defined and being set to 0.0 in samples with no true labels. Use `zero_division` parameter to control this behavior.\n",
            "  _warn_prf(average, modifier, msg_start, len(result))\n",
            "/usr/local/lib/python3.9/dist-packages/sklearn/metrics/_classification.py:1344: UndefinedMetricWarning: Precision and F-score are ill-defined and being set to 0.0 in samples with no predicted labels. Use `zero_division` parameter to control this behavior.\n",
            "  _warn_prf(average, modifier, msg_start, len(result))\n",
            "/usr/local/lib/python3.9/dist-packages/sklearn/metrics/_classification.py:1344: UndefinedMetricWarning: Recall and F-score are ill-defined and being set to 0.0 in samples with no true labels. Use `zero_division` parameter to control this behavior.\n",
            "  _warn_prf(average, modifier, msg_start, len(result))\n"
          ]
        },
        {
          "output_type": "stream",
          "name": "stdout",
          "text": [
            "              precision    recall  f1-score   support\n",
            "\n",
            "           0       0.95      0.98      0.97      8228\n",
            "           1       0.95      0.94      0.95      5819\n",
            "           2       0.98      0.99      0.98     14146\n",
            "           3       0.95      0.96      0.96      1647\n",
            "           4       0.98      0.99      0.99     13753\n",
            "           5       0.97      0.97      0.97      5681\n",
            "           6       0.95      0.95      0.95      2523\n",
            "           7       0.91      0.92      0.91      2993\n",
            "           8       0.98      0.99      0.98     11171\n",
            "           9       0.96      0.92      0.94      2443\n",
            "          10       0.98      0.98      0.98     12382\n",
            "          11       0.93      0.98      0.96       713\n",
            "          12       0.97      0.97      0.97      1488\n",
            "          13       0.99      0.99      0.99     17415\n",
            "\n",
            "   micro avg       0.97      0.98      0.98    100402\n",
            "   macro avg       0.96      0.97      0.96    100402\n",
            "weighted avg       0.97      0.98      0.98    100402\n",
            " samples avg       0.92      0.92      0.92    100402\n",
            "\n",
            "              precision    recall  f1-score   support\n",
            "\n",
            "           0       0.96      0.98      0.97      8228\n",
            "           1       0.96      0.93      0.95      5819\n",
            "           2       0.98      0.98      0.98     14146\n",
            "           3       0.96      0.96      0.96      1647\n",
            "           4       0.98      0.99      0.99     13753\n",
            "           5       0.98      0.97      0.97      5681\n",
            "           6       0.95      0.95      0.95      2523\n",
            "           7       0.92      0.91      0.91      2993\n",
            "           8       0.98      0.98      0.98     11171\n",
            "           9       0.97      0.91      0.94      2443\n",
            "          10       0.98      0.98      0.98     12382\n",
            "          11       0.94      0.98      0.96       713\n",
            "          12       0.97      0.97      0.97      1488\n",
            "          13       0.99      0.99      0.99     17415\n",
            "\n",
            "   micro avg       0.98      0.98      0.98    100402\n",
            "   macro avg       0.97      0.96      0.96    100402\n",
            "weighted avg       0.98      0.98      0.98    100402\n",
            " samples avg       0.92      0.92      0.92    100402\n",
            "\n"
          ]
        },
        {
          "output_type": "stream",
          "name": "stderr",
          "text": [
            "/usr/local/lib/python3.9/dist-packages/sklearn/metrics/_classification.py:1344: UndefinedMetricWarning: Precision and F-score are ill-defined and being set to 0.0 in samples with no predicted labels. Use `zero_division` parameter to control this behavior.\n",
            "  _warn_prf(average, modifier, msg_start, len(result))\n",
            "/usr/local/lib/python3.9/dist-packages/sklearn/metrics/_classification.py:1344: UndefinedMetricWarning: Recall and F-score are ill-defined and being set to 0.0 in samples with no true labels. Use `zero_division` parameter to control this behavior.\n",
            "  _warn_prf(average, modifier, msg_start, len(result))\n",
            "/usr/local/lib/python3.9/dist-packages/sklearn/metrics/_classification.py:1344: UndefinedMetricWarning: Precision and F-score are ill-defined and being set to 0.0 in samples with no predicted labels. Use `zero_division` parameter to control this behavior.\n",
            "  _warn_prf(average, modifier, msg_start, len(result))\n",
            "/usr/local/lib/python3.9/dist-packages/sklearn/metrics/_classification.py:1344: UndefinedMetricWarning: Recall and F-score are ill-defined and being set to 0.0 in samples with no true labels. Use `zero_division` parameter to control this behavior.\n",
            "  _warn_prf(average, modifier, msg_start, len(result))\n"
          ]
        },
        {
          "output_type": "stream",
          "name": "stdout",
          "text": [
            "              precision    recall  f1-score   support\n",
            "\n",
            "           0       0.96      0.98      0.97      8228\n",
            "           1       0.97      0.93      0.95      5819\n",
            "           2       0.98      0.98      0.98     14146\n",
            "           3       0.96      0.95      0.96      1647\n",
            "           4       0.98      0.99      0.99     13753\n",
            "           5       0.98      0.96      0.97      5681\n",
            "           6       0.96      0.95      0.95      2523\n",
            "           7       0.93      0.90      0.91      2993\n",
            "           8       0.98      0.98      0.98     11171\n",
            "           9       0.97      0.91      0.94      2443\n",
            "          10       0.99      0.97      0.98     12382\n",
            "          11       0.94      0.97      0.96       713\n",
            "          12       0.98      0.96      0.97      1488\n",
            "          13       0.99      0.99      0.99     17415\n",
            "\n",
            "   micro avg       0.98      0.97      0.98    100402\n",
            "   macro avg       0.97      0.96      0.96    100402\n",
            "weighted avg       0.98      0.97      0.98    100402\n",
            " samples avg       0.92      0.92      0.92    100402\n",
            "\n",
            "              precision    recall  f1-score   support\n",
            "\n",
            "           0       0.97      0.97      0.97      8228\n",
            "           1       0.97      0.91      0.94      5819\n",
            "           2       0.98      0.98      0.98     14146\n",
            "           3       0.96      0.95      0.96      1647\n",
            "           4       0.98      0.99      0.99     13753\n",
            "           5       0.98      0.96      0.97      5681\n",
            "           6       0.97      0.94      0.95      2523\n",
            "           7       0.93      0.89      0.91      2993\n",
            "           8       0.98      0.98      0.98     11171\n",
            "           9       0.98      0.90      0.94      2443\n",
            "          10       0.99      0.97      0.98     12382\n",
            "          11       0.95      0.97      0.96       713\n",
            "          12       0.98      0.96      0.97      1488\n",
            "          13       0.99      0.99      0.99     17415\n",
            "\n",
            "   micro avg       0.98      0.97      0.97    100402\n",
            "   macro avg       0.97      0.95      0.96    100402\n",
            "weighted avg       0.98      0.97      0.97    100402\n",
            " samples avg       0.92      0.92      0.92    100402\n",
            "\n",
            "              precision    recall  f1-score   support\n",
            "\n",
            "           0       0.98      0.96      0.97      8228\n",
            "           1       0.97      0.89      0.93      5819\n",
            "           2       0.99      0.97      0.98     14146\n",
            "           3       0.97      0.93      0.95      1647\n",
            "           4       0.98      0.99      0.99     13753\n",
            "           5       0.98      0.94      0.96      5681\n",
            "           6       0.97      0.92      0.95      2523\n",
            "           7       0.95      0.86      0.90      2993\n",
            "           8       0.99      0.97      0.98     11171\n",
            "           9       0.98      0.89      0.93      2443\n",
            "          10       0.99      0.96      0.97     12382\n",
            "          11       0.95      0.97      0.96       713\n",
            "          12       0.98      0.96      0.97      1488\n",
            "          13       0.99      0.98      0.99     17415\n",
            "\n",
            "   micro avg       0.98      0.96      0.97    100402\n",
            "   macro avg       0.98      0.94      0.96    100402\n",
            "weighted avg       0.98      0.96      0.97    100402\n",
            " samples avg       0.92      0.91      0.91    100402\n",
            "\n"
          ]
        },
        {
          "output_type": "stream",
          "name": "stderr",
          "text": [
            "/usr/local/lib/python3.9/dist-packages/sklearn/metrics/_classification.py:1344: UndefinedMetricWarning: Precision and F-score are ill-defined and being set to 0.0 in samples with no predicted labels. Use `zero_division` parameter to control this behavior.\n",
            "  _warn_prf(average, modifier, msg_start, len(result))\n",
            "/usr/local/lib/python3.9/dist-packages/sklearn/metrics/_classification.py:1344: UndefinedMetricWarning: Recall and F-score are ill-defined and being set to 0.0 in samples with no true labels. Use `zero_division` parameter to control this behavior.\n",
            "  _warn_prf(average, modifier, msg_start, len(result))\n"
          ]
        }
      ]
    },
    {
      "cell_type": "markdown",
      "source": [
        "### Creating the second model with functional API of tensorflow as it used parallel layers."
      ],
      "metadata": {
        "id": "daqSWPQJtPgd"
      }
    },
    {
      "cell_type": "code",
      "source": [
        "class model2(tf.keras.Model):\n",
        "  def __init__(self, num_classes=1000):\n",
        "        super().__init__()\n",
        "        self.embedding = tf.keras.layers.Embedding(length_vocab, output_dim=1000, input_length=402)\n",
        "        self.lstm1 = tf.keras.layers.LSTM(128, return_sequences=True)\n",
        "        self.dropout1 = tf.keras.layers.Dropout(0.5)\n",
        "        self.lstm2 = tf.keras.layers.LSTM(128, return_sequences=True)\n",
        "        self.dropout2 = tf.keras.layers.Dropout(0.5)\n",
        "        self.linear1 = tf.keras.layers.Dense(256, activation = 'relu')\n",
        "        self.linear2 = tf.keras.layers.Dense(256, activation = 'relu')\n",
        "        self.linear3 = tf.keras.layers.Dense(128, activation = 'relu')\n",
        "        self.final = tf.keras.layers.Dense(14, activation = 'sigmoid')\n",
        "  def call(self, input):\n",
        "        h_embeddings = self.embedding(input)\n",
        "        h_lstm1 = self.lstm1(h_embeddings)\n",
        "        h_lstm1 = self.dropout1(h_lstm1)\n",
        "        h_lstm2 = self.lstm2(h_lstm1)\n",
        "        h_lstm2 = self.dropout2(h_lstm2)\n",
        "        # global average pooling\n",
        "        avg_pool = tf.keras.layers.GlobalAveragePooling1D()(h_lstm2)\n",
        "        # global max pooling\n",
        "        max_pool = tf.keras.layers.GlobalMaxPooling1D()(h_lstm2)\n",
        "        h_conc = tf.keras.layers.Concatenate(axis=1)([avg_pool, max_pool])\n",
        "        h_conc_linear1 = self.linear1(h_conc)\n",
        "        h_conc_linear2 = self.linear2(h_conc)\n",
        "        h_conc_linear3 = tf.keras.layers.Concatenate(axis=1)([h_conc_linear1, h_conc_linear2])\n",
        "        h_conc_linear3 = self.linear3(h_conc_linear3)\n",
        "        final_output = self.final(h_conc_linear3)\n",
        "                                                    \n",
        "        return final_output\n"
      ],
      "metadata": {
        "id": "TYGztKckc7OX"
      },
      "execution_count": null,
      "outputs": []
    },
    {
      "cell_type": "code",
      "source": [
        "new_model = model2()"
      ],
      "metadata": {
        "id": "zUR08YHkGe2i"
      },
      "execution_count": null,
      "outputs": []
    },
    {
      "cell_type": "code",
      "source": [
        "new_model.build((None, 402))"
      ],
      "metadata": {
        "id": "OQqA0jgFGza_"
      },
      "execution_count": null,
      "outputs": []
    },
    {
      "cell_type": "code",
      "source": [
        "new_model.summary()"
      ],
      "metadata": {
        "colab": {
          "base_uri": "https://localhost:8080/"
        },
        "id": "ZwpeVqqeH5Tc",
        "outputId": "4067ffe2-cc77-444e-de86-0ee9f62f9f8c"
      },
      "execution_count": null,
      "outputs": [
        {
          "output_type": "stream",
          "name": "stdout",
          "text": [
            "Model: \"model2\"\n",
            "_________________________________________________________________\n",
            " Layer (type)                Output Shape              Param #   \n",
            "=================================================================\n",
            " embedding_1 (Embedding)     multiple                  11392000  \n",
            "                                                                 \n",
            " lstm_2 (LSTM)               multiple                  578048    \n",
            "                                                                 \n",
            " dropout_2 (Dropout)         multiple                  0         \n",
            "                                                                 \n",
            " lstm_3 (LSTM)               multiple                  131584    \n",
            "                                                                 \n",
            " dropout_3 (Dropout)         multiple                  0         \n",
            "                                                                 \n",
            " dense_1 (Dense)             multiple                  65792     \n",
            "                                                                 \n",
            " dense_2 (Dense)             multiple                  65792     \n",
            "                                                                 \n",
            " dense_3 (Dense)             multiple                  65664     \n",
            "                                                                 \n",
            " dense_4 (Dense)             multiple                  1806      \n",
            "                                                                 \n",
            "=================================================================\n",
            "Total params: 12,300,686\n",
            "Trainable params: 12,300,686\n",
            "Non-trainable params: 0\n",
            "_________________________________________________________________\n"
          ]
        }
      ]
    },
    {
      "cell_type": "code",
      "source": [
        "new_model.compile(optimizer='adam', loss='binary_crossentropy')"
      ],
      "metadata": {
        "id": "TDMYOjYXkaEb"
      },
      "execution_count": null,
      "outputs": []
    },
    {
      "cell_type": "code",
      "source": [
        "history_1  = new_model.fit_generator(generator=train_generator,\n",
        "                    validation_data=valid_generator,\n",
        "                    use_multiprocessing=True,\n",
        "                    workers=6,  epochs = 10)"
      ],
      "metadata": {
        "colab": {
          "base_uri": "https://localhost:8080/"
        },
        "id": "R1i2T4jFtp4U",
        "outputId": "ed577854-cfc8-41a9-8e1e-977b091a8f8e"
      },
      "execution_count": null,
      "outputs": [
        {
          "output_type": "stream",
          "name": "stdout",
          "text": [
            "Epoch 1/10\n"
          ]
        },
        {
          "output_type": "stream",
          "name": "stderr",
          "text": [
            "<ipython-input-49-6bf51e37b42c>:1: UserWarning: `Model.fit_generator` is deprecated and will be removed in a future version. Please use `Model.fit`, which supports generators.\n",
            "  history_1  = new_model.fit_generator(generator=train_generator,\n"
          ]
        },
        {
          "output_type": "stream",
          "name": "stdout",
          "text": [
            "4556/4556 [==============================] - 270s 58ms/step - loss: 0.0834 - val_loss: 0.0705\n",
            "Epoch 2/10\n",
            "4556/4556 [==============================] - 222s 49ms/step - loss: 0.0327 - val_loss: 0.0719\n",
            "Epoch 3/10\n",
            "4556/4556 [==============================] - 221s 48ms/step - loss: 0.0269 - val_loss: 0.0715\n",
            "Epoch 4/10\n",
            "4556/4556 [==============================] - 221s 48ms/step - loss: 0.0237 - val_loss: 0.0694\n",
            "Epoch 5/10\n",
            "4556/4556 [==============================] - 220s 48ms/step - loss: 0.0216 - val_loss: 0.0596\n",
            "Epoch 6/10\n",
            "4556/4556 [==============================] - 221s 48ms/step - loss: 0.0203 - val_loss: 0.0519\n",
            "Epoch 7/10\n",
            "4556/4556 [==============================] - 220s 48ms/step - loss: 0.0192 - val_loss: 0.0650\n",
            "Epoch 8/10\n",
            "4556/4556 [==============================] - 219s 48ms/step - loss: 0.0182 - val_loss: 0.0564\n",
            "Epoch 9/10\n",
            "4556/4556 [==============================] - 220s 48ms/step - loss: 0.0177 - val_loss: 0.0513\n",
            "Epoch 10/10\n",
            "4556/4556 [==============================] - 220s 48ms/step - loss: 0.0172 - val_loss: 0.0435\n"
          ]
        }
      ]
    },
    {
      "cell_type": "code",
      "source": [
        "y1_predict = new_model.predict(x_test)"
      ],
      "metadata": {
        "colab": {
          "base_uri": "https://localhost:8080/"
        },
        "id": "BjM2RshtXuG-",
        "outputId": "35e49be1-2511-44ec-de53-8c0b79bf337c"
      },
      "execution_count": null,
      "outputs": [
        {
          "output_type": "stream",
          "name": "stdout",
          "text": [
            "1424/1424 [==============================] - 22s 15ms/step\n"
          ]
        }
      ]
    },
    {
      "cell_type": "markdown",
      "source": [
        "### Evaluating the accuracy metrics for the second model for different threshold values of the sigmoid function."
      ],
      "metadata": {
        "id": "yg6hyktBt21D"
      }
    },
    {
      "cell_type": "code",
      "source": [
        "thresholds=[0.1,0.2,0.3,0.4,0.5,0.6,0.7,0.8,0.9]\n",
        "for val in thresholds:\n",
        "    pred=y1_predict.copy()\n",
        "    pred[pred>=val]=1\n",
        "    pred[pred<val]=0\n",
        "    print(classification_report(y_test, pred))"
      ],
      "metadata": {
        "colab": {
          "base_uri": "https://localhost:8080/"
        },
        "id": "dm6RTy5Knfof",
        "outputId": "ccce0ebc-2621-4279-cfd8-887a0d05a5ce"
      },
      "execution_count": null,
      "outputs": [
        {
          "output_type": "stream",
          "name": "stderr",
          "text": [
            "/usr/local/lib/python3.9/dist-packages/sklearn/metrics/_classification.py:1344: UndefinedMetricWarning: Precision and F-score are ill-defined and being set to 0.0 in samples with no predicted labels. Use `zero_division` parameter to control this behavior.\n",
            "  _warn_prf(average, modifier, msg_start, len(result))\n",
            "/usr/local/lib/python3.9/dist-packages/sklearn/metrics/_classification.py:1344: UndefinedMetricWarning: Recall and F-score are ill-defined and being set to 0.0 in samples with no true labels. Use `zero_division` parameter to control this behavior.\n",
            "  _warn_prf(average, modifier, msg_start, len(result))\n"
          ]
        },
        {
          "output_type": "stream",
          "name": "stdout",
          "text": [
            "              precision    recall  f1-score   support\n",
            "\n",
            "           0       0.62      1.00      0.76      8228\n",
            "           1       0.91      0.97      0.94      5819\n",
            "           2       0.97      0.99      0.98     14146\n",
            "           3       0.92      0.98      0.95      1647\n",
            "           4       0.98      0.99      0.99     13753\n",
            "           5       0.94      0.98      0.96      5681\n",
            "           6       0.92      0.97      0.94      2523\n",
            "           7       0.70      0.97      0.81      2993\n",
            "           8       0.97      0.99      0.98     11171\n",
            "           9       0.92      0.94      0.93      2443\n",
            "          10       0.97      0.99      0.98     12382\n",
            "          11       0.92      0.97      0.94       713\n",
            "          12       0.96      0.98      0.97      1488\n",
            "          13       0.98      1.00      0.99     17415\n",
            "\n",
            "   micro avg       0.91      0.99      0.95    100402\n",
            "   macro avg       0.90      0.98      0.94    100402\n",
            "weighted avg       0.93      0.99      0.95    100402\n",
            " samples avg       0.88      0.93      0.90    100402\n",
            "\n"
          ]
        },
        {
          "output_type": "stream",
          "name": "stderr",
          "text": [
            "/usr/local/lib/python3.9/dist-packages/sklearn/metrics/_classification.py:1344: UndefinedMetricWarning: Precision and F-score are ill-defined and being set to 0.0 in samples with no predicted labels. Use `zero_division` parameter to control this behavior.\n",
            "  _warn_prf(average, modifier, msg_start, len(result))\n",
            "/usr/local/lib/python3.9/dist-packages/sklearn/metrics/_classification.py:1344: UndefinedMetricWarning: Recall and F-score are ill-defined and being set to 0.0 in samples with no true labels. Use `zero_division` parameter to control this behavior.\n",
            "  _warn_prf(average, modifier, msg_start, len(result))\n"
          ]
        },
        {
          "output_type": "stream",
          "name": "stdout",
          "text": [
            "              precision    recall  f1-score   support\n",
            "\n",
            "           0       0.72      1.00      0.84      8228\n",
            "           1       0.95      0.96      0.95      5819\n",
            "           2       0.98      0.99      0.98     14146\n",
            "           3       0.95      0.97      0.96      1647\n",
            "           4       0.98      0.99      0.99     13753\n",
            "           5       0.97      0.97      0.97      5681\n",
            "           6       0.96      0.94      0.95      2523\n",
            "           7       0.84      0.95      0.89      2993\n",
            "           8       0.98      0.99      0.98     11171\n",
            "           9       0.95      0.93      0.94      2443\n",
            "          10       0.98      0.98      0.98     12382\n",
            "          11       0.95      0.94      0.95       713\n",
            "          12       0.98      0.97      0.97      1488\n",
            "          13       0.99      1.00      0.99     17415\n",
            "\n",
            "   micro avg       0.94      0.98      0.96    100402\n",
            "   macro avg       0.94      0.97      0.95    100402\n",
            "weighted avg       0.95      0.98      0.96    100402\n",
            " samples avg       0.90      0.93      0.91    100402\n",
            "\n"
          ]
        },
        {
          "output_type": "stream",
          "name": "stderr",
          "text": [
            "/usr/local/lib/python3.9/dist-packages/sklearn/metrics/_classification.py:1344: UndefinedMetricWarning: Precision and F-score are ill-defined and being set to 0.0 in samples with no predicted labels. Use `zero_division` parameter to control this behavior.\n",
            "  _warn_prf(average, modifier, msg_start, len(result))\n",
            "/usr/local/lib/python3.9/dist-packages/sklearn/metrics/_classification.py:1344: UndefinedMetricWarning: Recall and F-score are ill-defined and being set to 0.0 in samples with no true labels. Use `zero_division` parameter to control this behavior.\n",
            "  _warn_prf(average, modifier, msg_start, len(result))\n"
          ]
        },
        {
          "output_type": "stream",
          "name": "stdout",
          "text": [
            "              precision    recall  f1-score   support\n",
            "\n",
            "           0       0.79      0.99      0.88      8228\n",
            "           1       0.96      0.94      0.95      5819\n",
            "           2       0.98      0.98      0.98     14146\n",
            "           3       0.96      0.96      0.96      1647\n",
            "           4       0.99      0.99      0.99     13753\n",
            "           5       0.98      0.96      0.97      5681\n",
            "           6       0.97      0.92      0.95      2523\n",
            "           7       0.89      0.93      0.91      2993\n",
            "           8       0.98      0.98      0.98     11171\n",
            "           9       0.97      0.92      0.94      2443\n",
            "          10       0.99      0.98      0.98     12382\n",
            "          11       0.96      0.89      0.92       713\n",
            "          12       0.99      0.95      0.97      1488\n",
            "          13       0.99      0.99      0.99     17415\n",
            "\n",
            "   micro avg       0.96      0.98      0.97    100402\n",
            "   macro avg       0.96      0.96      0.96    100402\n",
            "weighted avg       0.96      0.98      0.97    100402\n",
            " samples avg       0.91      0.92      0.91    100402\n",
            "\n"
          ]
        },
        {
          "output_type": "stream",
          "name": "stderr",
          "text": [
            "/usr/local/lib/python3.9/dist-packages/sklearn/metrics/_classification.py:1344: UndefinedMetricWarning: Precision and F-score are ill-defined and being set to 0.0 in samples with no predicted labels. Use `zero_division` parameter to control this behavior.\n",
            "  _warn_prf(average, modifier, msg_start, len(result))\n",
            "/usr/local/lib/python3.9/dist-packages/sklearn/metrics/_classification.py:1344: UndefinedMetricWarning: Recall and F-score are ill-defined and being set to 0.0 in samples with no true labels. Use `zero_division` parameter to control this behavior.\n",
            "  _warn_prf(average, modifier, msg_start, len(result))\n"
          ]
        },
        {
          "output_type": "stream",
          "name": "stdout",
          "text": [
            "              precision    recall  f1-score   support\n",
            "\n",
            "           0       0.85      0.99      0.91      8228\n",
            "           1       0.97      0.92      0.94      5819\n",
            "           2       0.99      0.98      0.98     14146\n",
            "           3       0.97      0.94      0.95      1647\n",
            "           4       0.99      0.98      0.98     13753\n",
            "           5       0.98      0.94      0.96      5681\n",
            "           6       0.98      0.88      0.93      2523\n",
            "           7       0.92      0.92      0.92      2993\n",
            "           8       0.98      0.98      0.98     11171\n",
            "           9       0.98      0.91      0.94      2443\n",
            "          10       0.99      0.97      0.98     12382\n",
            "          11       0.97      0.84      0.90       713\n",
            "          12       0.99      0.93      0.96      1488\n",
            "          13       0.99      0.99      0.99     17415\n",
            "\n",
            "   micro avg       0.97      0.97      0.97    100402\n",
            "   macro avg       0.97      0.94      0.95    100402\n",
            "weighted avg       0.97      0.97      0.97    100402\n",
            " samples avg       0.91      0.91      0.91    100402\n",
            "\n"
          ]
        },
        {
          "output_type": "stream",
          "name": "stderr",
          "text": [
            "/usr/local/lib/python3.9/dist-packages/sklearn/metrics/_classification.py:1344: UndefinedMetricWarning: Precision and F-score are ill-defined and being set to 0.0 in samples with no predicted labels. Use `zero_division` parameter to control this behavior.\n",
            "  _warn_prf(average, modifier, msg_start, len(result))\n",
            "/usr/local/lib/python3.9/dist-packages/sklearn/metrics/_classification.py:1344: UndefinedMetricWarning: Recall and F-score are ill-defined and being set to 0.0 in samples with no true labels. Use `zero_division` parameter to control this behavior.\n",
            "  _warn_prf(average, modifier, msg_start, len(result))\n"
          ]
        },
        {
          "output_type": "stream",
          "name": "stdout",
          "text": [
            "              precision    recall  f1-score   support\n",
            "\n",
            "           0       0.89      0.99      0.94      8228\n",
            "           1       0.98      0.88      0.93      5819\n",
            "           2       0.99      0.97      0.98     14146\n",
            "           3       0.97      0.93      0.95      1647\n",
            "           4       0.99      0.98      0.98     13753\n",
            "           5       0.98      0.92      0.95      5681\n",
            "           6       0.99      0.85      0.91      2523\n",
            "           7       0.94      0.90      0.92      2993\n",
            "           8       0.99      0.97      0.98     11171\n",
            "           9       0.98      0.90      0.94      2443\n",
            "          10       0.99      0.95      0.97     12382\n",
            "          11       0.98      0.77      0.87       713\n",
            "          12       0.99      0.91      0.95      1488\n",
            "          13       0.99      0.99      0.99     17415\n",
            "\n",
            "   micro avg       0.98      0.96      0.97    100402\n",
            "   macro avg       0.98      0.92      0.95    100402\n",
            "weighted avg       0.98      0.96      0.97    100402\n",
            " samples avg       0.92      0.90      0.90    100402\n",
            "\n"
          ]
        },
        {
          "output_type": "stream",
          "name": "stderr",
          "text": [
            "/usr/local/lib/python3.9/dist-packages/sklearn/metrics/_classification.py:1344: UndefinedMetricWarning: Precision and F-score are ill-defined and being set to 0.0 in samples with no predicted labels. Use `zero_division` parameter to control this behavior.\n",
            "  _warn_prf(average, modifier, msg_start, len(result))\n",
            "/usr/local/lib/python3.9/dist-packages/sklearn/metrics/_classification.py:1344: UndefinedMetricWarning: Recall and F-score are ill-defined and being set to 0.0 in samples with no true labels. Use `zero_division` parameter to control this behavior.\n",
            "  _warn_prf(average, modifier, msg_start, len(result))\n"
          ]
        },
        {
          "output_type": "stream",
          "name": "stdout",
          "text": [
            "              precision    recall  f1-score   support\n",
            "\n",
            "           0       0.92      0.99      0.95      8228\n",
            "           1       0.98      0.81      0.89      5819\n",
            "           2       0.99      0.95      0.97     14146\n",
            "           3       0.98      0.90      0.94      1647\n",
            "           4       0.99      0.97      0.98     13753\n",
            "           5       0.99      0.88      0.93      5681\n",
            "           6       0.99      0.78      0.88      2523\n",
            "           7       0.95      0.87      0.91      2993\n",
            "           8       0.99      0.97      0.98     11171\n",
            "           9       0.98      0.86      0.92      2443\n",
            "          10       0.99      0.92      0.96     12382\n",
            "          11       0.99      0.68      0.80       713\n",
            "          12       0.99      0.87      0.93      1488\n",
            "          13       0.99      0.99      0.99     17415\n",
            "\n",
            "   micro avg       0.98      0.94      0.96    100402\n",
            "   macro avg       0.98      0.89      0.93    100402\n",
            "weighted avg       0.98      0.94      0.96    100402\n",
            " samples avg       0.91      0.88      0.89    100402\n",
            "\n"
          ]
        },
        {
          "output_type": "stream",
          "name": "stderr",
          "text": [
            "/usr/local/lib/python3.9/dist-packages/sklearn/metrics/_classification.py:1344: UndefinedMetricWarning: Precision and F-score are ill-defined and being set to 0.0 in samples with no predicted labels. Use `zero_division` parameter to control this behavior.\n",
            "  _warn_prf(average, modifier, msg_start, len(result))\n",
            "/usr/local/lib/python3.9/dist-packages/sklearn/metrics/_classification.py:1344: UndefinedMetricWarning: Recall and F-score are ill-defined and being set to 0.0 in samples with no true labels. Use `zero_division` parameter to control this behavior.\n",
            "  _warn_prf(average, modifier, msg_start, len(result))\n"
          ]
        },
        {
          "output_type": "stream",
          "name": "stdout",
          "text": [
            "              precision    recall  f1-score   support\n",
            "\n",
            "           0       0.94      0.99      0.96      8228\n",
            "           1       0.99      0.71      0.83      5819\n",
            "           2       0.99      0.91      0.95     14146\n",
            "           3       0.98      0.84      0.90      1647\n",
            "           4       0.99      0.95      0.97     13753\n",
            "           5       0.99      0.80      0.89      5681\n",
            "           6       0.99      0.68      0.81      2523\n",
            "           7       0.96      0.84      0.89      2993\n",
            "           8       0.99      0.95      0.97     11171\n",
            "           9       0.99      0.78      0.87      2443\n",
            "          10       0.99      0.88      0.93     12382\n",
            "          11       0.99      0.58      0.73       713\n",
            "          12       1.00      0.78      0.88      1488\n",
            "          13       0.99      0.97      0.98     17415\n",
            "\n",
            "   micro avg       0.99      0.90      0.94    100402\n",
            "   macro avg       0.98      0.83      0.90    100402\n",
            "weighted avg       0.99      0.90      0.94    100402\n",
            " samples avg       0.89      0.84      0.86    100402\n",
            "\n"
          ]
        },
        {
          "output_type": "stream",
          "name": "stderr",
          "text": [
            "/usr/local/lib/python3.9/dist-packages/sklearn/metrics/_classification.py:1344: UndefinedMetricWarning: Precision and F-score are ill-defined and being set to 0.0 in samples with no predicted labels. Use `zero_division` parameter to control this behavior.\n",
            "  _warn_prf(average, modifier, msg_start, len(result))\n",
            "/usr/local/lib/python3.9/dist-packages/sklearn/metrics/_classification.py:1344: UndefinedMetricWarning: Recall and F-score are ill-defined and being set to 0.0 in samples with no true labels. Use `zero_division` parameter to control this behavior.\n",
            "  _warn_prf(average, modifier, msg_start, len(result))\n"
          ]
        },
        {
          "output_type": "stream",
          "name": "stdout",
          "text": [
            "              precision    recall  f1-score   support\n",
            "\n",
            "           0       0.96      0.98      0.97      8228\n",
            "           1       0.99      0.51      0.68      5819\n",
            "           2       0.99      0.81      0.89     14146\n",
            "           3       0.98      0.72      0.83      1647\n",
            "           4       0.99      0.90      0.94     13753\n",
            "           5       0.99      0.66      0.79      5681\n",
            "           6       1.00      0.52      0.68      2523\n",
            "           7       0.97      0.76      0.85      2993\n",
            "           8       0.99      0.91      0.95     11171\n",
            "           9       0.99      0.64      0.78      2443\n",
            "          10       1.00      0.75      0.86     12382\n",
            "          11       1.00      0.46      0.63       713\n",
            "          12       1.00      0.62      0.77      1488\n",
            "          13       0.99      0.93      0.96     17415\n",
            "\n",
            "   micro avg       0.99      0.82      0.89    100402\n",
            "   macro avg       0.99      0.73      0.83    100402\n",
            "weighted avg       0.99      0.82      0.89    100402\n",
            " samples avg       0.85      0.76      0.79    100402\n",
            "\n",
            "              precision    recall  f1-score   support\n",
            "\n",
            "           0       0.97      0.97      0.97      8228\n",
            "           1       1.00      0.16      0.27      5819\n",
            "           2       1.00      0.52      0.68     14146\n",
            "           3       0.99      0.52      0.68      1647\n",
            "           4       0.99      0.70      0.82     13753\n",
            "           5       0.99      0.43      0.60      5681\n",
            "           6       1.00      0.25      0.41      2523\n",
            "           7       0.98      0.58      0.73      2993\n",
            "           8       1.00      0.75      0.85     11171\n",
            "           9       0.99      0.27      0.42      2443\n",
            "          10       1.00      0.41      0.58     12382\n",
            "          11       1.00      0.31      0.47       713\n",
            "          12       1.00      0.34      0.51      1488\n",
            "          13       1.00      0.73      0.84     17415\n",
            "\n",
            "   micro avg       0.99      0.59      0.74    100402\n",
            "   macro avg       0.99      0.50      0.63    100402\n",
            "weighted avg       0.99      0.59      0.71    100402\n",
            " samples avg       0.71      0.56      0.61    100402\n",
            "\n"
          ]
        },
        {
          "output_type": "stream",
          "name": "stderr",
          "text": [
            "/usr/local/lib/python3.9/dist-packages/sklearn/metrics/_classification.py:1344: UndefinedMetricWarning: Precision and F-score are ill-defined and being set to 0.0 in samples with no predicted labels. Use `zero_division` parameter to control this behavior.\n",
            "  _warn_prf(average, modifier, msg_start, len(result))\n",
            "/usr/local/lib/python3.9/dist-packages/sklearn/metrics/_classification.py:1344: UndefinedMetricWarning: Recall and F-score are ill-defined and being set to 0.0 in samples with no true labels. Use `zero_division` parameter to control this behavior.\n",
            "  _warn_prf(average, modifier, msg_start, len(result))\n"
          ]
        }
      ]
    },
    {
      "cell_type": "code",
      "source": [],
      "metadata": {
        "id": "ghNEPsjgnpJF"
      },
      "execution_count": null,
      "outputs": []
    }
  ]
}